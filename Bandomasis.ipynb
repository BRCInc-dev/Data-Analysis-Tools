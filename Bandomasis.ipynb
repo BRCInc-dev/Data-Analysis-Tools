{
  "nbformat": 4,
  "nbformat_minor": 0,
  "metadata": {
    "colab": {
      "provenance": [],
      "authorship_tag": "ABX9TyOAqCVb966P2RtR2BN28WVc",
      "include_colab_link": true
    },
    "kernelspec": {
      "name": "python3",
      "display_name": "Python 3"
    },
    "language_info": {
      "name": "python"
    }
  },
  "cells": [
    {
      "cell_type": "markdown",
      "metadata": {
        "id": "view-in-github",
        "colab_type": "text"
      },
      "source": [
        "<a href=\"https://colab.research.google.com/github/BRCInc-dev/Data-Analysis-Tools/blob/main/Bandomasis.ipynb\" target=\"_parent\"><img src=\"https://colab.research.google.com/assets/colab-badge.svg\" alt=\"Open In Colab\"/></a>"
      ]
    },
    {
      "cell_type": "code",
      "execution_count": 1,
      "metadata": {
        "colab": {
          "base_uri": "https://localhost:8080/"
        },
        "id": "esF69guh62Pi",
        "outputId": "693254f1-4a57-4844-df6d-1b592bc494f9"
      },
      "outputs": [
        {
          "output_type": "stream",
          "name": "stdout",
          "text": [
            "[1, 2, 3, 4]\n"
          ]
        }
      ],
      "source": [
        "mano_sarasas = [1, 2, 3, 4, 5]\n",
        "mano_sarasas.pop()\n",
        "print (mano_sarasas)\n",
        "\n",
        "\n"
      ]
    },
    {
      "cell_type": "code",
      "source": [
        "def ar_teigiamas(skaicius):\n",
        "   rezultatas = skaicius > 0\n",
        "   return rezultatas\n",
        "   print (rezultatas)"
      ],
      "metadata": {
        "id": "oT4mrcCY7cPU"
      },
      "execution_count": 3,
      "outputs": []
    },
    {
      "cell_type": "code",
      "source": [
        "def pirmas_elementas(sarasas):\n",
        "    if sarasas:\n",
        "      pirmas = sarasas[0]\n",
        "    else:\n",
        "        pirmas = None\n",
        "    return pirmas\n",
        "    sarasas = []\n",
        "    pirmas_elementas(sarasas)\n",
        "    print (sarasas)\n"
      ],
      "metadata": {
        "id": "nW6usjs3CCXp"
      },
      "execution_count": 4,
      "outputs": []
    },
    {
      "cell_type": "code",
      "source": [
        "def ar_daugiau_nei_du(sarasas):\n",
        "    rezultatas = len(sarasas) >= 2\n",
        "    return rezultatas\n",
        "    ar_daugiau_nei_du([1, 2, 3])\n",
        "    print (rezultatas)"
      ],
      "metadata": {
        "id": "JWM5mUPbCC3e"
      },
      "execution_count": null,
      "outputs": []
    },
    {
      "cell_type": "code",
      "source": [
        "def suma(sarasas):\n",
        "    suma_rezultatas = sum(sarasas)\n",
        "    return suma_rezultatas\n",
        "    sarasas = [1, 2, 3]\n",
        "    suma(sarasas)\n",
        "    print (suma_rezultatas)"
      ],
      "metadata": {
        "id": "VhxzngDBHhDS"
      },
      "execution_count": null,
      "outputs": []
    },
    {
      "cell_type": "code",
      "source": [
        "def i_mazasias(tekstas):\n",
        "    mazosios = tekstas.lower()\n",
        "    return mazosios\n",
        "    tekstas = \"Labas\"\n",
        "    i_mazasias(tekstas)\n",
        "    print (mazosios)\n"
      ],
      "metadata": {
        "id": "acXcl672HhF8"
      },
      "execution_count": null,
      "outputs": []
    },
    {
      "cell_type": "code",
      "source": [
        "for raide in \"Labas\":\n",
        "    print(raide)"
      ],
      "metadata": {
        "colab": {
          "base_uri": "https://localhost:8080/"
        },
        "id": "g4snbas7IAkB",
        "outputId": "aab5ff7e-c51e-4e9a-b6ff-603cb6ee8772"
      },
      "execution_count": null,
      "outputs": [
        {
          "output_type": "stream",
          "name": "stdout",
          "text": [
            "L\n",
            "a\n",
            "b\n",
            "a\n",
            "s\n"
          ]
        }
      ]
    },
    {
      "cell_type": "code",
      "source": [
        "sarasas_kvadratu = []\n",
        "for skaicius in range(1, 6):\n",
        "    sarasas_kvadratu.append(skaicius**2)\n",
        "    print(sarasas_kvadratu)\n"
      ],
      "metadata": {
        "colab": {
          "base_uri": "https://localhost:8080/"
        },
        "id": "Ad6qsDSzIAyW",
        "outputId": "16f5cec5-4bb2-4059-9d3c-44a8267fc063"
      },
      "execution_count": null,
      "outputs": [
        {
          "output_type": "stream",
          "name": "stdout",
          "text": [
            "[1]\n",
            "[1, 4]\n",
            "[1, 4, 9]\n",
            "[1, 4, 9, 16]\n",
            "[1, 4, 9, 16, 25]\n"
          ]
        }
      ]
    },
    {
      "cell_type": "code",
      "source": [
        "def lyginis_ar_nelyginis(skaicius):\n",
        "    if skaicius % 2 == 0:\n",
        "        rezultatas = \"Lyginis\"\n",
        "    else:\n",
        "       \"Nelyginis\"\n",
        "    return rezultatas\n",
        "    skaicius = 4\n"
      ],
      "metadata": {
        "id": "lQVCF297HhH7"
      },
      "execution_count": null,
      "outputs": []
    },
    {
      "cell_type": "code",
      "source": [
        "def raidziu_kiekis(tekstas, raide):\n",
        "    kiekis = tekstas.count(raide)\n",
        "    return kiekis\n",
        "\n"
      ],
      "metadata": {
        "id": "6WgOBmghQThR"
      },
      "execution_count": null,
      "outputs": []
    }
  ]
}