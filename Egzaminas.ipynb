{
  "nbformat": 4,
  "nbformat_minor": 0,
  "metadata": {
    "colab": {
      "provenance": [],
      "authorship_tag": "ABX9TyO98NV4IFC/eoinE8Yi3Vj1",
      "include_colab_link": true
    },
    "kernelspec": {
      "name": "python3",
      "display_name": "Python 3"
    },
    "language_info": {
      "name": "python"
    }
  },
  "cells": [
    {
      "cell_type": "markdown",
      "metadata": {
        "id": "view-in-github",
        "colab_type": "text"
      },
      "source": [
        "<a href=\"https://colab.research.google.com/github/BRCInc-dev/Data-Analysis-Tools/blob/main/Egzaminas.ipynb\" target=\"_parent\"><img src=\"https://colab.research.google.com/assets/colab-badge.svg\" alt=\"Open In Colab\"/></a>"
      ]
    },
    {
      "cell_type": "code",
      "execution_count": 1,
      "metadata": {
        "colab": {
          "base_uri": "https://localhost:8080/"
        },
        "id": "z4boN3g6WDfF",
        "outputId": "1f25ee87-ef31-4cf9-9629-59ff9c938b13"
      },
      "outputs": [
        {
          "output_type": "stream",
          "name": "stdout",
          "text": [
            "[1, 3, 5, 7, 9]\n"
          ]
        }
      ],
      "source": [
        "#1. Sukurkite sąrašą iš 10 elementų ir pašalinkite visus elementus, kurie yra lyginiai.\n",
        "sarasas = [1,2,3,4,5,6,7,8,9,10]\n",
        "for i in sarasas:\n",
        "    if i % 2 == 0:\n",
        "        sarasas.remove(i)\n",
        "print(sarasas)\n"
      ]
    },
    {
      "cell_type": "code",
      "source": [
        "#2. Parašykite funkciją, kuri tikrina, ar skaičius yra tarp 10 ir 50.\n",
        "def ar_tarp_10_ir_50(skaicius):\n",
        "    if skaicius >= 10 and skaicius <= 50:\n",
        "        return True\n",
        "    else:\n",
        "        return False\n",
        "print(ar_tarp_10_ir_50(8))"
      ],
      "metadata": {
        "colab": {
          "base_uri": "https://localhost:8080/"
        },
        "id": "_LZnpAaVXCPD",
        "outputId": "d441e691-de02-4af5-a17b-aadec144337c"
      },
      "execution_count": null,
      "outputs": [
        {
          "output_type": "stream",
          "name": "stdout",
          "text": [
            "False\n"
          ]
        }
      ]
    },
    {
      "cell_type": "code",
      "source": [
        "#3.Parašykite funkciją, kuri grąžina paskutinį sąrašo elementą, jei sąrašas nėra tuščias.\n",
        "def paskutinis_saraso_elementas(sarasas):\n",
        "    if len(sarasas) > 0:\n",
        "        return sarasas[-1]\n",
        "    else:\n",
        "        return None\n",
        "print(paskutinis_saraso_elementas([1,2,3,4,5]))"
      ],
      "metadata": {
        "colab": {
          "base_uri": "https://localhost:8080/"
        },
        "id": "aF3lR2LZXCR5",
        "outputId": "4ff04dfe-7fc5-45bc-a452-9ce3a5c5018d"
      },
      "execution_count": null,
      "outputs": [
        {
          "output_type": "stream",
          "name": "stdout",
          "text": [
            "5\n"
          ]
        }
      ]
    },
    {
      "cell_type": "code",
      "source": [
        "#4. Parašykite ciklą, kuris atspausdina kiekvieną skaičių nuo 1 iki 10 kartu su jo kvadratu.\n",
        "for i in range(1,11):\n",
        "    print(i, i**2)"
      ],
      "metadata": {
        "colab": {
          "base_uri": "https://localhost:8080/"
        },
        "id": "DzEv5lNxXCcj",
        "outputId": "b49b1ac7-30c6-40f9-8c38-366a2bdb39db"
      },
      "execution_count": null,
      "outputs": [
        {
          "output_type": "stream",
          "name": "stdout",
          "text": [
            "1 1\n",
            "2 4\n",
            "3 9\n",
            "4 16\n",
            "5 25\n",
            "6 36\n",
            "7 49\n",
            "8 64\n",
            "9 81\n",
            "10 100\n"
          ]
        }
      ]
    },
    {
      "cell_type": "code",
      "source": [
        "#5. Parašykite funkciją, kuri suskaičiuoja visų neigiamų skaičių sumą sąraše.\n",
        "def suma_neigiam_skaiciu(sarasas):\n",
        "    suma = 0\n",
        "    for i in sarasas:\n",
        "        if i < 0:\n",
        "            suma += i\n",
        "    return suma\n",
        "print(suma_neigiam_skaiciu([1,-2,3,-4,5]))"
      ],
      "metadata": {
        "colab": {
          "base_uri": "https://localhost:8080/"
        },
        "id": "-cr2A0-VXCfO",
        "outputId": "a10d9059-b94f-4ea6-ed3f-5219b4fb5382"
      },
      "execution_count": null,
      "outputs": [
        {
          "output_type": "stream",
          "name": "stdout",
          "text": [
            "-6\n"
          ]
        }
      ]
    },
    {
      "cell_type": "code",
      "source": [
        "#6. Parašykite funkciją, kuri suskaičiuoja visų teigiamų skaičių kiekį sąraše.\n",
        "def skaiciu_kiekis(sarasas):\n",
        "    kiekis = 0\n",
        "    for i in sarasas:\n",
        "        if i > 0:\n",
        "            kiekis += 1\n",
        "    return kiekis\n",
        "print(skaiciu_kiekis([1,-2,3,-4,5]))"
      ],
      "metadata": {
        "colab": {
          "base_uri": "https://localhost:8080/"
        },
        "id": "M8W9vxN6bwJg",
        "outputId": "f332ce77-a33b-46fc-a753-658f179ab0fd"
      },
      "execution_count": null,
      "outputs": [
        {
          "output_type": "stream",
          "name": "stdout",
          "text": [
            "3\n"
          ]
        }
      ]
    },
    {
      "cell_type": "code",
      "source": [
        "#7. Parašykite funkciją, kuri patikrina, ar sąraše nėra dublikatų.\n",
        "def dublikatai(sarasas):\n",
        "    for i in sarasas:\n",
        "        if sarasas.count(i) > 1:\n",
        "            return True\n",
        "    return False\n",
        "print(dublikatai([1,2,3,4,5]))"
      ],
      "metadata": {
        "colab": {
          "base_uri": "https://localhost:8080/"
        },
        "id": "RaflMSrSbwNX",
        "outputId": "4df7e092-4f2e-4159-cc63-9783601f7e8a"
      },
      "execution_count": null,
      "outputs": [
        {
          "output_type": "stream",
          "name": "stdout",
          "text": [
            "False\n"
          ]
        }
      ]
    },
    {
      "cell_type": "code",
      "source": [
        "#8. Parašykite funkciją, kuri grąžina, kiek žodžių tekste prasideda didžiąja raide.\n",
        "def didziosios_raides(tekstas):\n",
        "    skaicius = 0\n",
        "    for i in tekstas.split():\n",
        "        if i[0].isupper():\n",
        "            skaicius += 1\n",
        "    return skaicius\n",
        "print(didziosios_raides(\"Graziu svenciu ir Laimingu Naujuju metu\"))"
      ],
      "metadata": {
        "colab": {
          "base_uri": "https://localhost:8080/"
        },
        "id": "fMHo2iObbxsO",
        "outputId": "f3558157-7a92-49e8-b62f-b24e5fa15e27"
      },
      "execution_count": null,
      "outputs": [
        {
          "output_type": "stream",
          "name": "stdout",
          "text": [
            "3\n"
          ]
        }
      ]
    },
    {
      "cell_type": "code",
      "source": [
        "#9. Parašykite ciklą, kuris spausdintų tokio formato kalėdinę eglutę:\n",
        "#    *\n",
        "#   ***\n",
        "#  *****\n",
        "# *******\n",
        "#*********\n",
        "#  |||\n",
        "\n",
        "def spausdinti_eglute(aukstis):\n",
        "  for i in range(1, aukstis + 1):\n",
        "    print(\" \" * (aukstis - i) + \"*\" * (2 * i - 1))\n",
        "  print(\" \" * (aukstis - 2) + \"|||\" )\n",
        "spausdinti_eglute(7)"
      ],
      "metadata": {
        "colab": {
          "base_uri": "https://localhost:8080/"
        },
        "id": "7X-nAsowbx4A",
        "outputId": "c09dc284-1c6d-495e-8f5d-c0016fabde9d"
      },
      "execution_count": null,
      "outputs": [
        {
          "output_type": "stream",
          "name": "stdout",
          "text": [
            "      *\n",
            "     ***\n",
            "    *****\n",
            "   *******\n",
            "  *********\n",
            " ***********\n",
            "*************\n",
            "     |||\n"
          ]
        }
      ]
    }
  ]
}