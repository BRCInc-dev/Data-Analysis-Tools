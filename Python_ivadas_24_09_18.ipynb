{
  "nbformat": 4,
  "nbformat_minor": 0,
  "metadata": {
    "colab": {
      "provenance": [],
      "collapsed_sections": [
        "ijc6fFxeYRow",
        "0dMncITviKsi",
        "ZRL5i0xDiMoj",
        "v9LCs2afiOJ3",
        "h7fNdRSkiV7s",
        "O3UFi8T_FMdw",
        "V9PSL_TNYTvo",
        "nQH8GUf0lV_z",
        "TynTumFvllq-",
        "UdzYO6XvWfPm",
        "qQWOU70PXNyY",
        "H7H1o1Ay3gRs",
        "Y4z4VOpb3jm9",
        "n0xgvrd73mYr",
        "XZT0a3m-lQPs",
        "orKZW1m5laRR",
        "KwzPwW_XnJrC",
        "HQPUEgPlQzcW",
        "g6qxk8HDx8ah",
        "Ibyd_pamyBUA",
        "lv_yjXD6GZdN"
      ],
      "include_colab_link": true
    },
    "kernelspec": {
      "name": "python3",
      "display_name": "Python 3"
    },
    "language_info": {
      "name": "python"
    }
  },
  "cells": [
    {
      "cell_type": "markdown",
      "metadata": {
        "id": "view-in-github",
        "colab_type": "text"
      },
      "source": [
        "<a href=\"https://colab.research.google.com/github/BRCInc-dev/Data-Analysis-Tools/blob/main/Python_ivadas_24_09_18.ipynb\" target=\"_parent\"><img src=\"https://colab.research.google.com/assets/colab-badge.svg\" alt=\"Open In Colab\"/></a>"
      ]
    },
    {
      "cell_type": "markdown",
      "source": [
        "# 1. Temperatūra\n",
        "\n",
        "Parašykite programą, kuri vartotojo prašytų įvesti temperatūrą Farenheito laipsniais ir atspausdintų ją Celsijaus laipsniais. Jei konvertuota temperatūra yra žemesnė nei 0°C, programa taip pat turėtų atspausdinti \"Brr! Šiandien šalta!\", o jei aukščiau nei 30°C - \"Šiandien labai karšta!\"\n",
        "\n",
        "Naudokitės šia konvertavimo formule\n",
        "°C = (°F - 32) × 5/9"
      ],
      "metadata": {
        "id": "VnnMCSzWYOrK"
      }
    },
    {
      "cell_type": "code",
      "source": [
        "f = float(input('Įveskite temperatūrą (°F): '))\n",
        "c = round((f - 32) * 5 / 9, 2)\n",
        "\n",
        "print(f'{f}°F yra {c}°C')\n",
        "\n",
        "if c < 0:\n",
        "    print('Brr! Šiandien šalta!')\n",
        "elif c > 30:\n",
        "    print('Šiandien labai karšta!')"
      ],
      "metadata": {
        "id": "JTaNDmw-1UG3",
        "colab": {
          "base_uri": "https://localhost:8080/"
        },
        "outputId": "81fb6f52-4890-441d-8d43-4f028f96e822"
      },
      "execution_count": 5,
      "outputs": [
        {
          "output_type": "stream",
          "name": "stdout",
          "text": [
            "Įveskite temperatūrą (°F): 77\n",
            "77.0°F yra 25.0°C\n"
          ]
        }
      ]
    },
    {
      "cell_type": "markdown",
      "source": [
        "# 2. Palindromai\n",
        "\n",
        "Palindromas - vienodai iš abiejų pusių skaitomas žodis arba frazė. Pvz.: \"Sigis\" yra palindromas.\n",
        "\n",
        "Parašykite programą, kuri neatsižvelgdama į didžiąsias raides pasakytų, ar duota simbolių eilutė yra palindromas."
      ],
      "metadata": {
        "id": "kuNs-h-JYPg6"
      }
    },
    {
      "cell_type": "code",
      "source": [
        "eilute = input('Įveskite žodį ').lower()\n",
        "if eilute == eilute[::-1]:\n",
        "    print(f'{eilute} yra palindromas')\n",
        "else:\n",
        "    print(f'{eilute} nėra palindromas')"
      ],
      "metadata": {
        "id": "5G3quUvMYRYM",
        "colab": {
          "base_uri": "https://localhost:8080/"
        },
        "outputId": "6ab215cd-6868-4b97-d0c1-f7ccef2feddf"
      },
      "execution_count": 6,
      "outputs": [
        {
          "output_type": "stream",
          "name": "stdout",
          "text": [
            "Įveskite žodį labas\n",
            "labas nėra palindromas\n"
          ]
        }
      ]
    },
    {
      "cell_type": "markdown",
      "source": [
        "# 3. FizzBuzz\n",
        "\n",
        "Parašykite programą, kuri prašo vartotojo įvesti sveikąjį skaičių.\n",
        "*   Jei skaičius dalijasi iš trijų, programa turėtų išspausdinti \"Fizz\".\n",
        "*   Jei skaičius dalijasi iš penkių, programa turėtų išspausdinti \"Buzz\".\n",
        "*   Jei skaičius dalijasi ir iš trijų, ir iš penkių, programa turėtų išspausdinti \"FizzBuzz\".\n",
        "*   Jei skaičius nesidalina nei iš trijų, nei iš penkių, programa turėtų atspausdinti tą skaičių."
      ],
      "metadata": {
        "id": "ijc6fFxeYRow"
      }
    },
    {
      "cell_type": "markdown",
      "source": [
        "#### 1 sprendimas"
      ],
      "metadata": {
        "id": "0dMncITviKsi"
      }
    },
    {
      "cell_type": "code",
      "source": [
        "n = int(input('Įveskite skaičių: '))\n",
        "\n",
        "if n % 3 == 0 and n % 5 == 0:\n",
        "    print('FizzBuzz')\n",
        "elif n % 3 == 0:\n",
        "    print('Fizz')\n",
        "elif n % 5 == 0:\n",
        "    print('Buzz')\n",
        "else:\n",
        "    print(n)"
      ],
      "metadata": {
        "id": "B9P2OPjEYTjg"
      },
      "execution_count": null,
      "outputs": []
    },
    {
      "cell_type": "markdown",
      "source": [
        "#### Klaidingas sprendimas"
      ],
      "metadata": {
        "id": "ZRL5i0xDiMoj"
      }
    },
    {
      "cell_type": "code",
      "source": [
        "n = int(input('Įveskite skaičių: '))\n",
        "\n",
        "if n % 3 == 0:\n",
        "    print('Fizz')\n",
        "elif n % 5 == 0:\n",
        "    print('Buzz')\n",
        "elif n % 3 == 0 and n % 5 == 0:\n",
        "    print('FizzBuzz')\n",
        "else:\n",
        "    print(n)"
      ],
      "metadata": {
        "id": "fP30wcSce-YB"
      },
      "execution_count": null,
      "outputs": []
    },
    {
      "cell_type": "markdown",
      "source": [
        "#### 2 sprendimas"
      ],
      "metadata": {
        "id": "v9LCs2afiOJ3"
      }
    },
    {
      "cell_type": "code",
      "source": [
        "n = int(input('Įveskite skaičių: '))\n",
        "\n",
        "string = ''\n",
        "if n % 3 == 0:\n",
        "    string = string + 'Fizz'\n",
        "if n % 5 == 0:\n",
        "    string = string + 'Buzz'\n",
        "if n % 3 != 0 and n % 5 != 0:\n",
        "    string = string + str(n)\n",
        "\n",
        "print(string)"
      ],
      "metadata": {
        "id": "q2j1PmTmfaqZ"
      },
      "execution_count": null,
      "outputs": []
    },
    {
      "cell_type": "markdown",
      "source": [
        "#### 3 sprendimas"
      ],
      "metadata": {
        "id": "h7fNdRSkiV7s"
      }
    },
    {
      "cell_type": "code",
      "source": [
        "n = int(input('Įveskite skaičių: '))\n",
        "print('Fizz' * (n % 3 == 0) + 'Buzz' * (n % 5 == 0) or str(n))"
      ],
      "metadata": {
        "id": "lqgs6VFAhCmO"
      },
      "execution_count": null,
      "outputs": []
    },
    {
      "cell_type": "markdown",
      "source": [
        "#### Ciklas"
      ],
      "metadata": {
        "id": "O3UFi8T_FMdw"
      }
    },
    {
      "cell_type": "code",
      "source": [
        "def fizz_buzz(n):\n",
        "    if n % 3 == 0 and n % 5 == 0:\n",
        "        print('FizzBuzz')\n",
        "    elif n % 3 == 0:\n",
        "        print('Fizz')\n",
        "    elif n % 5 == 0:\n",
        "        print('Buzz')\n",
        "    else:\n",
        "        print(n)"
      ],
      "metadata": {
        "id": "jbfa6wsLFOqz"
      },
      "execution_count": null,
      "outputs": []
    },
    {
      "cell_type": "code",
      "source": [
        "for i in range(1, 101):\n",
        "    fizz_buzz(i)"
      ],
      "metadata": {
        "id": "svdt5i2fFPRk"
      },
      "execution_count": null,
      "outputs": []
    },
    {
      "cell_type": "markdown",
      "source": [
        "# 4. Keliamieji metai\n",
        "\n",
        "Keliamieji metai būna:\n",
        "\n",
        "*   Kiekvienais metais, kurie dalijasi iš 4.\n",
        "*   Išskyrus atvejus, kai metai dalijasi iš 100. Tokiu atveju tai keliamieji metai tik tada, jei metai taip pat dalijasi ir iš 400.\n",
        "\n",
        "Keli pavyzdžiai:\n",
        "*   1997-ieji nebuvo keliamieji metai, nes nesidalija iš 4.\n",
        "*   1900-ieji nebuvo keliamieji metai, nes jie nesidalija iš 400.\n",
        "*   2000-ieji buvo keliamieji metai!\n",
        "\n",
        "Paraškite programą, kuri paprašytų vartotojo įvesti metus ir atsakytų ar jie buvo keliamieji."
      ],
      "metadata": {
        "id": "V9PSL_TNYTvo"
      }
    },
    {
      "cell_type": "markdown",
      "source": [
        "#### 1 būdas"
      ],
      "metadata": {
        "id": "nQH8GUf0lV_z"
      }
    },
    {
      "cell_type": "code",
      "source": [
        "metai = int(input(\"Įveskite metus: \"))\n",
        "\n",
        "if (metai % 4 == 0 and metai % 100 != 0) or (metai % 400 == 0):\n",
        "    print(f\"{metai} metai yra keliamieji!\")\n",
        "else:\n",
        "    print(f\"{metai} metai nėra keliamieji.\")"
      ],
      "metadata": {
        "id": "YJkRRv_aYVbP"
      },
      "execution_count": null,
      "outputs": []
    },
    {
      "cell_type": "markdown",
      "source": [
        "#### 2 būdas"
      ],
      "metadata": {
        "id": "TynTumFvllq-"
      }
    },
    {
      "cell_type": "code",
      "source": [
        "metai = int(input(\"Įveskite metus: \"))\n",
        "if metai % 400 == 0:\n",
        "    print(f\"{metai} metai yra keliamieji!\")\n",
        "elif metai % 100 == 0:\n",
        "    print(f\"{metai} metai nėra keliamieji.\")\n",
        "elif metai % 4 == 0:\n",
        "    print(f\"{metai} metai yra keliamieji!\")\n",
        "else:\n",
        "    print(f\"{metai} metai nėra keliamieji.\")"
      ],
      "metadata": {
        "id": "cKvVnRlrlZHz"
      },
      "execution_count": null,
      "outputs": []
    },
    {
      "cell_type": "markdown",
      "source": [
        "# 5. Dienos darbo užmokestis\n",
        "\n",
        "Parašykite programą, kuri vartotojo prašytų įvesti valandinį atlygį, išdirbtų valandų skaičių ir savaitės dieną. Programa turėtų atspausdinti dienos darbo užmokestį, kuris lygus valandiniam darbo užmokesčiui, padaugintam iš dirbtų valandų, išskyrus savaitgalius, kai valandinis atlygis yra dvigubas."
      ],
      "metadata": {
        "id": "he7nTjgpYVpw"
      }
    },
    {
      "cell_type": "code",
      "source": [
        "valandinis_atlygis = float(input('Įveskite valandinį atlygį: '))\n",
        "isdirbtos_valandos = float(input('Įveskite valandų skaičių: '))\n",
        "savaites_diena = input('Įveskite savaitės dieną: ').lower()\n",
        "\n",
        "savaites_dienos = [\n",
        "    'pirmadienis',\n",
        "    'antradienis',\n",
        "    'trečiadienis',\n",
        "    'ketvirtadienis',\n",
        "    'penktadienis',\n",
        "    'šeštadienis',\n",
        "    'sekmadienis'\n",
        "]\n",
        "\n",
        "if savaites_diena not in savaites_dienos:\n",
        "    raise ValueError('Blogai įvesta savaitės diena')\n",
        "\n",
        "if savaites_diena in ['šeštadienis', 'sekmadienis']:\n",
        "    # valandinis_atlygis = 2 * valandinis_atlygis\n",
        "    valandinis_atlygis *= 2\n",
        "\n",
        "print(f\"Uždirbtumėte {valandinis_atlygis * isdirbtos_valandos} Eur\")"
      ],
      "metadata": {
        "id": "e9rqoWbLmtgy"
      },
      "execution_count": null,
      "outputs": []
    },
    {
      "cell_type": "markdown",
      "source": [
        "# 6. Išlaidos maistui\n",
        "\n",
        "Parašykite programą, kuri įvertintų įprastas vartotojo išlaidas maistui.\n",
        "\n",
        "Programa turėtų klausti:\n",
        "*   kiek per savaitę vartotojas pietauja kavinėje,\n",
        "*   kiek vidutiniškai išleidžia pietums,\n",
        "*   kiek per savaitę išleidžia maistui ne kavinėse.\n",
        "\n",
        "Programa turėtų grąžinti:\n",
        "1. Savaitines kavinės išlaidas\n",
        "2. Visas išlaidas maistui per savaitę\n",
        "3. Vidutines išlaidas maistui per dieną"
      ],
      "metadata": {
        "id": "A_vULoGEmw2i"
      }
    },
    {
      "cell_type": "code",
      "source": [
        "apsilankymai_kavineje = int(input('Kiek kartų per savaitę pietaujate kavinėje? '))\n",
        "pietu_kaina = int(input('Kiek vidutiniškai išleidžiate pietums kavinėje? '))\n",
        "maisto_islaidos = int(input('Kiek per savaitę išleidžiate maistui (ne kavinėse)? '))\n",
        "\n",
        "kavines_islaidos = pietu_kaina * apsilankymai_kavineje\n",
        "viso_per_savaite = maisto_islaidos + kavines_islaidos\n",
        "dienos_islaidos = viso_per_savaite / 7\n",
        "\n",
        "print('Maisto išlaidos:')\n",
        "print(f'Per savaitę kavinėje išleidžiate: {kavines_islaidos:.2f} Eur')\n",
        "print(f'Viso maistui per savaitę išleidžiate: {viso_per_savaite:.2f} Eur')\n",
        "print(f'Vidutiniškai per dieną maistui išleidžiate: {dienos_islaidos:.2f} Eur')"
      ],
      "metadata": {
        "id": "elkXWrXOYX83"
      },
      "execution_count": null,
      "outputs": []
    },
    {
      "cell_type": "markdown",
      "source": [
        "# 7. Smiginis\n",
        "\n",
        "Smiginis yra žaidimas, kuriame žaidėjai meta strėlytes į skritulio formos taikinį. Mūsų žaidime taikinys padalintas į 3 ratus:\n",
        "\n",
        "*   Jei strėlytė pataiko į išorinį taikinio ratą, žaidėjas gauna 1 tašką.\n",
        "*   Jei strėlytė pataiko į vidurinį taikinio ratą, žaidėjas gauna 5 taškus.\n",
        "*   Jei strėlytė pataiko į vidinį taikinio ratą, žaidėjas gauna 10 taškų.\n",
        "*   Jei strėlytė pataiko už taikinio ribų, žaidėjas taškų negauna (0 taškų).\n",
        "\n",
        "Išorinis ratas turi 10 vienetų spindulį (tai atitinka viso taikinio spindulį), vidurinis ratas turi 5 vienetų spindulį, o vidinis ratas turi 1 vieneto spindulį. Visų apskritimų centro koordinatė (0, 0).\n",
        "\n",
        "Parašykite funkciją, kuri, nurodant taikinio tašką, apibrėžtą koordinatėmis x ir y, grąžina teisingą taškų skaičių, uždirbtą strėlytei pataikius į tą tašką.\n",
        "\n",
        "#### Pavyzdys:\n",
        "\n",
        "Įvestis:\n",
        "```\n",
        "x = 3\n",
        "y = 3\n",
        "```\n",
        "\n",
        "Išvestis:\n",
        "```\n",
        "5\n",
        "```"
      ],
      "metadata": {
        "id": "X90Il-taYajN"
      }
    },
    {
      "cell_type": "code",
      "source": [
        "import math\n",
        "\n",
        "x = 7\n",
        "y = 7\n",
        "atstumas = math.sqrt(x**2 + y**2)\n",
        "# atstumas = (x**2 + y**2)**(0.5)\n",
        "\n",
        "if atstumas > 10:\n",
        "    print('0 taškų')\n",
        "elif atstumas > 5:\n",
        "    print('1 taškas')\n",
        "elif atstumas > 1:\n",
        "    print('5 taškai')\n",
        "else:\n",
        "    print('10 taškų')"
      ],
      "metadata": {
        "id": "_PdnenNJt9SS"
      },
      "execution_count": null,
      "outputs": []
    },
    {
      "cell_type": "markdown",
      "source": [
        "# 8. Trikampis\n",
        "\n",
        "Nustatykite, ar trikampis yra lygiakraštis, lygiašonis ar paprastasis.\n",
        "*   Lygiakraščio trikampio visos trys kraštinės yra vienodo ilgio.\n",
        "*   Lygiašonis trikampis turi bent dvi vienodo ilgio kraštines.\n",
        "*   Paprastojo trikampio visos kraštinės yra skirtingo ilgio.\n",
        "\n",
        "Ar visi ilgiai gali sudaryti trikampį? Parašykite funkciją, kuri patikrintų, ar kraštinių ilgiai sudaro trikampį.\n",
        "\n",
        "Įvestis pateikiama kaip nesurikiuotas kraštinių sąrašas.\n",
        "\n",
        "#### Pavyzdys\n",
        "\n",
        "Įvestis:\n",
        "```\n",
        "[3, 3, 4]\n",
        "```\n",
        "\n",
        "Išvestis:\n",
        "```\n",
        "lygiašonis\n",
        "```"
      ],
      "metadata": {
        "id": "qlpvaRqGYcvn"
      }
    },
    {
      "cell_type": "code",
      "source": [
        "def ar_trikampis(krastines):\n",
        "    if len(krastines) != 3:\n",
        "        raise ValueError('Trikampis privalo turėti tris kraštines')\n",
        "\n",
        "    a, b, c = sorted(krastines)\n",
        "    if a <= 0 or b <= 0 or c <= 0 or a + b < c:\n",
        "        raise ValueError('Kraštinės nesudaro trikampio')\n",
        "\n",
        "\n",
        "def koks_trikampis(krastines):\n",
        "    ar_trikampis(krastines)\n",
        "    a, b, c = sorted(krastines)\n",
        "    if a == c:\n",
        "        print('lygiakraštis')\n",
        "    elif a == b or b == c:\n",
        "        print('lygiašonis')\n",
        "    else:\n",
        "        print('paprastasis')"
      ],
      "metadata": {
        "id": "MxFlTZ9vYgbk"
      },
      "execution_count": null,
      "outputs": []
    },
    {
      "cell_type": "code",
      "source": [
        "koks_trikampis([3, 3, 3])\n",
        "koks_trikampis([3, 2, 3])\n",
        "koks_trikampis([2, 3, 4])\n",
        "koks_trikampis([40, 2, 3])"
      ],
      "metadata": {
        "id": "RxNRCWXw8wf5"
      },
      "execution_count": null,
      "outputs": []
    },
    {
      "cell_type": "markdown",
      "source": [
        "# 9. Produktų kainos\n",
        "\n",
        "Sukurkite žodyną, kurio raktai būtų produktų pavadinimai, o reikšmės – produktų kainos.<br>\n",
        "Atnaujinkite sukurtą žodyną visų produktų kainas pakeldami 10%."
      ],
      "metadata": {
        "id": "y6Qm13GOWd8U"
      }
    },
    {
      "cell_type": "code",
      "source": [],
      "metadata": {
        "id": "YEXH8fTIp1gS"
      },
      "execution_count": null,
      "outputs": []
    },
    {
      "cell_type": "markdown",
      "source": [
        "# 10. Kavos pardavimai\n",
        "\n",
        "Tarkime, kad atliekate kavinės pardavimų analizę. Jums yra duotas žodynas, kurio raktai yra prekių pavadinimai, o reikšmės – sąrašai, kuriuos sudaro pardavimų sumos (Eur) per savaitę."
      ],
      "metadata": {
        "id": "UdzYO6XvWfPm"
      }
    },
    {
      "cell_type": "code",
      "source": [
        "dict_pardavimai = {\n",
        "    \"Espresso\": [14.0, 12.6, 8.4, 11.2, 12.6, 4.2, 2.8],\n",
        "    \"Americano\": [26.4, 17.6, 11.0, 19.8, 22.0, 22.0, 24.2],\n",
        "    \"Cappuccino\": [37.5, 30.0, 25.0, 22.5, 25.0, 37.5, 37.5],\n",
        "    \"Latte\": [39.1, 36.8, 20.7, 23.0, 27.6, 32.2, 36.8],\n",
        "    \"Flat White\": [31.0, 27.9, 18.6, 24.8, 27.9, 9.3, 6.2],\n",
        "}"
      ],
      "metadata": {
        "id": "uYprvTF8X3fo"
      },
      "execution_count": null,
      "outputs": []
    },
    {
      "cell_type": "markdown",
      "source": [
        "### 10.1. Sukurkite žodyną, kurio raktai – produktų pavadinimai, o reikšmės – pardavimų suma."
      ],
      "metadata": {
        "id": "vs_ewsxDur0n"
      }
    },
    {
      "cell_type": "code",
      "source": [],
      "metadata": {
        "id": "J_ZeFE3JFZsi"
      },
      "execution_count": null,
      "outputs": []
    },
    {
      "cell_type": "markdown",
      "source": [
        "### 10.2. Sukurkite žodyną, kurio raktai būtų produkto pavadinimai, o reikšmės – procentinė pardavimų dalis."
      ],
      "metadata": {
        "id": "B0--KiH_Wh-S"
      }
    },
    {
      "cell_type": "code",
      "source": [],
      "metadata": {
        "id": "b_7PYkYeFY81"
      },
      "execution_count": null,
      "outputs": []
    },
    {
      "cell_type": "markdown",
      "source": [
        "### 10.3. Atspausdinkite didžiausius pardavimus turėjusio produkto pavadinimą bei pardavimų sumą."
      ],
      "metadata": {
        "id": "UQoVm8LuWo2t"
      }
    },
    {
      "cell_type": "code",
      "source": [],
      "metadata": {
        "id": "qOkPuuGNFWtq"
      },
      "execution_count": null,
      "outputs": []
    },
    {
      "cell_type": "markdown",
      "source": [
        "### 10.4. Sukurkite žodyną, kurio raktai – produktų pavadinimai, o reikšmės – pardavimų vidurkiai."
      ],
      "metadata": {
        "id": "rG6E6gSDWz0y"
      }
    },
    {
      "cell_type": "code",
      "source": [],
      "metadata": {
        "id": "4ylwRaHMFVRK"
      },
      "execution_count": null,
      "outputs": []
    },
    {
      "cell_type": "markdown",
      "source": [
        "### 10.5. Sukurkite žodyną, kurį sudarytų produktai, kurių vidutiniai pardavimai didesni nei pasirinkta reikšmė."
      ],
      "metadata": {
        "id": "DSI8-bkOW1gO"
      }
    },
    {
      "cell_type": "code",
      "source": [],
      "metadata": {
        "id": "o0YjyKmGFUBU"
      },
      "execution_count": null,
      "outputs": []
    },
    {
      "cell_type": "markdown",
      "source": [
        "### 10.6. Sukurkite žodyną, kurio raktai būtų produkto pavadinimai, o reikšmės – dieninis pardavimų skaičiaus pokytis."
      ],
      "metadata": {
        "id": "CBuSNyWzvIgY"
      }
    },
    {
      "cell_type": "code",
      "source": [],
      "metadata": {
        "id": "LYRM-tIKFTUB"
      },
      "execution_count": null,
      "outputs": []
    },
    {
      "cell_type": "markdown",
      "source": [
        "### 10.7. Sukurkite žodyną, kurio raktai – savaitės dienų indeksai nuo 0 iki 6, o reikšmės – visų produktų pardavimų suma atitinkamą dieną."
      ],
      "metadata": {
        "id": "AvFB9X-1W9WY"
      }
    },
    {
      "cell_type": "code",
      "source": [],
      "metadata": {
        "id": "yxBbFRLmFQ8i"
      },
      "execution_count": null,
      "outputs": []
    },
    {
      "cell_type": "markdown",
      "source": [
        "### 10.8. Sukurkite dienų indeksų sąrašą, kai pardavimai buvo žemesni nei pasirinkta reikšmė."
      ],
      "metadata": {
        "id": "QM_Cvd2UW_uy"
      }
    },
    {
      "cell_type": "code",
      "source": [],
      "metadata": {
        "id": "Gkm3ZHB8FP3U"
      },
      "execution_count": null,
      "outputs": []
    },
    {
      "cell_type": "markdown",
      "source": [
        "### 10.9. Sukurkite žodyną, kurio raktai - savaitės dienų indeksai nuo 0 iki 6, o reikšmės – didžiausius pardavimus tą dieną turėję produktai."
      ],
      "metadata": {
        "id": "wa8yJLxIXDIO"
      }
    },
    {
      "cell_type": "code",
      "source": [],
      "metadata": {
        "id": "kwy-HD5OFOWs"
      },
      "execution_count": null,
      "outputs": []
    },
    {
      "cell_type": "markdown",
      "source": [
        "# 11. Pažymių knygelė\n",
        "\n",
        "Tarkime, kad turite tokį žodynų sąrašą:\n"
      ],
      "metadata": {
        "id": "qQWOU70PXNyY"
      }
    },
    {
      "cell_type": "code",
      "source": [
        "mokiniai_pazymiai = [\n",
        "    {'vardas': 'Jonas', 'pazymiai': [7, 4, 10, 8]},\n",
        "    {'vardas': 'Gabija', 'pazymiai': [8, 8, 9]},\n",
        "    {'vardas': 'Petras', 'pazymiai': [6, 6, 7]},\n",
        "    {'vardas': 'Milda', 'pazymiai': [10, 7, 10, 9]}\n",
        "]"
      ],
      "metadata": {
        "id": "b5vLFs-DXOni"
      },
      "execution_count": null,
      "outputs": []
    },
    {
      "cell_type": "markdown",
      "source": [
        "### 11.1. Grupės vidurkis\n",
        "\n",
        "Suskaičiuokite bendrą visos grupės pažymių vidurkį."
      ],
      "metadata": {
        "id": "uG7-BLxnXQO0"
      }
    },
    {
      "cell_type": "code",
      "source": [],
      "metadata": {
        "id": "fDVtquRaXa9x"
      },
      "execution_count": null,
      "outputs": []
    },
    {
      "cell_type": "markdown",
      "source": [
        "### 11.2. Vidurkių analizė\n",
        "\n",
        "Transformuokite žodynų sąrašą į vieną žodyną, kuris atrodytų taip:\n",
        "\n",
        "```\n",
        "mokiniai_pazymiai = {\n",
        "    'Jonas': [7, 4, 10, 8],\n",
        "    'Gabija': [8, 8, 9],\n",
        "    'Petras': [6, 6, 7],\n",
        "    'Milda': [10, 7, 10, 9]\n",
        "}\n",
        "```\n",
        "\n",
        "Tuomet atspausindkite aukščiausią bei žemiausią vidurkius turinčius mokinius bei jų vidurkius."
      ],
      "metadata": {
        "id": "Ek-CoUnAXbSp"
      }
    },
    {
      "cell_type": "code",
      "source": [],
      "metadata": {
        "id": "6wuj2XhQTyOA"
      },
      "execution_count": null,
      "outputs": []
    },
    {
      "cell_type": "markdown",
      "source": [
        "# 12. Pangrama\n",
        "\n",
        "Pangrama – kuo trumpesnis sakinys iš visų abėcėlės raidžių.<br>\n",
        "Lietuvių kalboje tėra viena plačiau žinoma pangrama:<br>\n",
        "*Įlinkusi fechtuotojo špaga blykčiodama gręžė apvalų arbūzą.*\n",
        "\n",
        "Parašykite funkciją, kuri pasakytų ar įvestas sakinys yra pangrama."
      ],
      "metadata": {
        "id": "iDhJL9MTXos9"
      }
    },
    {
      "cell_type": "code",
      "source": [
        "sakinys = \"Įlinkusi fechtuotojo špaga blykčiodama gręžė apvalų arbūzą.\"\n",
        "abecele = \"aąbcčdeęėfghiįyjklmnoprsštuųūvzž\"\n",
        "\n",
        "ar_pangrama = True\n",
        "for raide in abecele:\n",
        "    if raide not in sakinys.lower():\n",
        "        ar_pangrama = False\n",
        "        break\n",
        "\n",
        "if ar_pangrama:\n",
        "    print(\"Pangrama\")\n",
        "else:\n",
        "    print(\"Nėra pangrama\")"
      ],
      "metadata": {
        "id": "NX1tOTIzXr0Y"
      },
      "execution_count": null,
      "outputs": []
    },
    {
      "cell_type": "code",
      "source": [
        "def ar_pangrama(sakinys):\n",
        "    abecele = \"aąbcčdeęėfghiįyjklmnoprsštuųūvzž\"\n",
        "    for raide in abecele:\n",
        "        if raide not in sakinys.lower():\n",
        "            return False\n",
        "    return True"
      ],
      "metadata": {
        "id": "y9BaIPW2OEJS"
      },
      "execution_count": null,
      "outputs": []
    },
    {
      "cell_type": "code",
      "source": [
        "sakinys_1 = \"Įlinkusi fechtuotojo špaga blykčiodama gręžė apvalų arbūzą.\"\n",
        "sakinys_2 = \"Aš myliu Lietuvą!\"\n",
        "\n",
        "print(ar_pangrama(sakinys_1))\n",
        "print(ar_pangrama(sakinys_2))"
      ],
      "metadata": {
        "id": "Xzet4OXQSLq-"
      },
      "execution_count": null,
      "outputs": []
    },
    {
      "cell_type": "markdown",
      "source": [
        "# 13. Žodžių skaičius tekste\n",
        "\n",
        "Sukurkite programą, kuri sukurtų žodyną, kurio raktai būtų įvesto sakinio žodžiai, o reikšmės – pasikartojančių žodžių skaičius. Didžiosios raidės tekste turi būti pakeistos, o skyrybos ženklai pašalinti. Programa turėtų atspausdinti penkis dažniausiai pasikartojančius žodžius bei jų pasikartojimų skaičių.\n",
        "\n",
        "Atlikite užduotį dviem būdais - naudodami for ciklą bei naudodami [Counter](https://docs.python.org/3/library/collections.html#collections.Counter) funkciją iš collections paketo."
      ],
      "metadata": {
        "id": "aMc6cKMrXqkY"
      }
    },
    {
      "cell_type": "code",
      "source": [],
      "metadata": {
        "id": "R6gRW7wrFI0m"
      },
      "execution_count": null,
      "outputs": []
    },
    {
      "cell_type": "markdown",
      "source": [
        "# 14. Sudoku\n",
        "\n",
        "Sudoku (jap. 数独 = sūdoku) – galvosūkiai, kuriuose reikia surasti ir įrašyti skaitmenis nuo 1 iki 9 taip, kad skaitmenys nesikartotų eilutėse, stulpeliuose bei paryškintuose 9 langelių (3×3) kvadratuose.\n",
        "\n",
        "[Sudoku pavyzdys](https://lt.wikipedia.org/wiki/Sudoku#/media/Vaizdas:Sudoku-by-L2G-20050714_solution.svg)\n",
        "\n",
        "Šioje užduotyje pažingsniui mėginsime parašyti funkciją, kuri patikrintų sudoku sprendimus.\n",
        "\n",
        "Tarkime, kad turite tokius sudoku sprendimus:"
      ],
      "metadata": {
        "id": "vBiuhF7tPAuz"
      }
    },
    {
      "cell_type": "code",
      "execution_count": null,
      "metadata": {
        "id": "vG0SXgPCOnNu"
      },
      "outputs": [],
      "source": [
        "sudoku_teisingas = [\n",
        "    [2,9,5, 7,4,3, 8,6,1],\n",
        "    [4,3,1, 8,6,5, 9,2,7],\n",
        "    [8,7,6, 1,9,2, 5,4,3],\n",
        "\n",
        "    [3,8,7, 4,5,9, 2,1,6],\n",
        "    [6,1,2, 3,8,7, 4,9,5],\n",
        "    [5,4,9, 2,1,6, 7,3,8],\n",
        "\n",
        "    [7,6,3, 5,2,4, 1,8,9],\n",
        "    [9,2,8, 6,7,1, 3,5,4],\n",
        "    [1,5,4, 9,3,8, 6,7,2]\n",
        "]\n",
        "\n",
        "sudoku_neteisingas = [\n",
        "    [2,9,5, 7,4,3, 8,6,1],\n",
        "    [2,3,1, 8,6,5, 9,2,7],\n",
        "    [8,7,6, 1,9,2, 5,4,3],\n",
        "\n",
        "    [3,8,7, 4,5,9, 2,1,6],\n",
        "    [6,1,2, 3,8,7, 4,9,5],\n",
        "    [5,4,9, 2,1,6, 7,3,8],\n",
        "\n",
        "    [7,6,3, 5,2,4, 1,8,9],\n",
        "    [9,2,8, 6,7,1, 3,5,4],\n",
        "    [1,5,4, 9,3,8, 6,7,2]\n",
        "]"
      ]
    },
    {
      "cell_type": "markdown",
      "source": [
        "### 14.1. Parašykite funkciją ar_teisingos_reiksmes, kuri patikrintų ar sąrašas susideda iš lygiai 9 sveikųjų skaičių nuo 1 iki 9.\n",
        "\n",
        "#### Pavyzdys\n",
        "\n",
        "Įvestis:\n",
        "\n",
        "```\n",
        "print(ar_teisingos_reiksmes([4,9,3,1,7,6,5,8,2]))\n",
        "print(ar_teisingos_reiksmes([4,9,3,1,7,9,5,8,2]))\n",
        "print(ar_teisingos_reiksmes([0,9,3,1,7,6,5,8,2]))\n",
        "print(ar_teisingos_reiksmes([4,9,3,1,7,6,5,8,2,3]))\n",
        "```\n",
        "\n",
        "Išvestis:\n",
        "\n",
        "```\n",
        "True\n",
        "False\n",
        "False\n",
        "False\n",
        "```"
      ],
      "metadata": {
        "id": "tn4QzpNqPDtR"
      }
    },
    {
      "cell_type": "code",
      "source": [
        "def ar_teisingos_reiksmes(reiksmes):\n",
        "    return sorted(reiksmes) == list(range(1, 10))"
      ],
      "metadata": {
        "id": "eKvYNQIyu9Lo"
      },
      "execution_count": null,
      "outputs": []
    },
    {
      "cell_type": "code",
      "source": [
        "print(ar_teisingos_reiksmes([4,9,3,1,7,6,5,8,2]))\n",
        "print(ar_teisingos_reiksmes([4,9,3,1,7,9,5,8,2]))\n",
        "print(ar_teisingos_reiksmes([0,9,3,1,7,6,5,8,2]))\n",
        "print(ar_teisingos_reiksmes([4,9,3,1,7,6,5,8,2,3]))"
      ],
      "metadata": {
        "colab": {
          "base_uri": "https://localhost:8080/"
        },
        "id": "rfe3wpdbvXwR",
        "outputId": "11102432-8e56-4cc9-93c0-97f7c67463c7"
      },
      "execution_count": null,
      "outputs": [
        {
          "output_type": "stream",
          "name": "stdout",
          "text": [
            "True\n",
            "False\n",
            "False\n",
            "False\n"
          ]
        }
      ]
    },
    {
      "cell_type": "markdown",
      "source": [
        "### 14.2. Parašykite funkciją ar_teisingos_eilutes, kuri patikrintų visas sudoku eilutes.\n",
        "\n",
        "#### Pavyzdys\n",
        "\n",
        "Įvestis:\n",
        "\n",
        "```\n",
        "print(ar_teisingos_eilutes(sudoku_teisingas))\n",
        "print(ar_teisingos_eilutes(sudoku_neteisingas))\n",
        "```\n",
        "\n",
        "Išvestis:\n",
        "\n",
        "```\n",
        "True\n",
        "False\n",
        "```"
      ],
      "metadata": {
        "id": "l96jPNhtPGLQ"
      }
    },
    {
      "cell_type": "code",
      "source": [
        "def ar_teisingos_eilutes(sudoku):\n",
        "    for eilute in sudoku:\n",
        "        if not ar_teisingos_reiksmes(eilute):\n",
        "            return False\n",
        "    return True"
      ],
      "metadata": {
        "id": "Y7ks4-Zvx7fS"
      },
      "execution_count": null,
      "outputs": []
    },
    {
      "cell_type": "code",
      "source": [
        "print(ar_teisingos_eilutes(sudoku_teisingas))\n",
        "print(ar_teisingos_eilutes(sudoku_neteisingas))"
      ],
      "metadata": {
        "colab": {
          "base_uri": "https://localhost:8080/"
        },
        "id": "Hs52j2EJxlGB",
        "outputId": "ade4f01f-f316-440f-e8c0-a0966f3b9f26"
      },
      "execution_count": null,
      "outputs": [
        {
          "output_type": "stream",
          "name": "stdout",
          "text": [
            "True\n",
            "False\n"
          ]
        }
      ]
    },
    {
      "cell_type": "markdown",
      "source": [
        "### 14.3. Parašykite funkciją ar_teisingas_stulpelis, kuri patikrintų ar pasirinktas stulpelis (nurodomas stulpelio indeksas nuo 0 iki 8) teisingas.\n",
        "\n",
        "#### Pavyzdys\n",
        "\n",
        "Įvestis:\n",
        "\n",
        "```\n",
        "print(ar_teisingas_stulpelis(sudoku_teisingas, 0))\n",
        "print(ar_teisingas_stulpelis(sudoku_neteisingas, 0))\n",
        "print(ar_teisingas_stulpelis(sudoku_neteisingas, 9))\n",
        "```\n",
        "\n",
        "Išvestis:\n",
        "\n",
        "```\n",
        "True\n",
        "False\n",
        "stulpelio_id reiksme turi buti sveikasis skaicius tarp 0 ir 8\n",
        "```"
      ],
      "metadata": {
        "id": "hA-H_BOBPI7T"
      }
    },
    {
      "cell_type": "code",
      "source": [
        "def ar_teisingas_stulpelis(sudoku, stulpelio_id):\n",
        "    # if not 0 <= stulpelio_id <= 8:\n",
        "    # if stulpelio_id < 0 or stulpelio_id > 8:\n",
        "    if stulpelio_id not in range(0, 9):\n",
        "        return ValueError(\n",
        "            \"stulpelio_id reiksme turi buti sveikasis skaicius tarp 0 ir 8\")\n",
        "    stulpelis = []\n",
        "    for eilute in sudoku:\n",
        "        stulpelis.append(eilute[stulpelio_id])\n",
        "    return ar_teisingos_reiksmes(stulpelis)"
      ],
      "metadata": {
        "id": "rELK5TViyKwl"
      },
      "execution_count": null,
      "outputs": []
    },
    {
      "cell_type": "code",
      "source": [
        "print(ar_teisingas_stulpelis(sudoku_teisingas, 0))\n",
        "print(ar_teisingas_stulpelis(sudoku_neteisingas, 0))\n",
        "print(ar_teisingas_stulpelis(sudoku_neteisingas, 9))"
      ],
      "metadata": {
        "colab": {
          "base_uri": "https://localhost:8080/"
        },
        "id": "sCUG3KMWlvyG",
        "outputId": "78aa1ac4-a2c7-4621-cad9-2a44f36e2b85"
      },
      "execution_count": null,
      "outputs": [
        {
          "output_type": "stream",
          "name": "stdout",
          "text": [
            "True\n",
            "False\n",
            "stulpelio_id reiksme turi buti sveikasis skaicius tarp 0 ir 8\n"
          ]
        }
      ]
    },
    {
      "cell_type": "markdown",
      "source": [
        "### 14.4. Parašykite funkciją ar_teisingi_stulpeliai, kuri patikrintų visus sudoku stulpelius.\n",
        "\n",
        "#### Pavyzdys\n",
        "\n",
        "Įvestis:\n",
        "\n",
        "```\n",
        "print(ar_teisingi_stulpeliai(sudoku_teisingas))\n",
        "print(ar_teisingi_stulpeliai(sudoku_neteisingas))\n",
        "```\n",
        "\n",
        "Išvestis:\n",
        "\n",
        "```\n",
        "True\n",
        "False\n",
        "```"
      ],
      "metadata": {
        "id": "JLSm8dmoPMIP"
      }
    },
    {
      "cell_type": "markdown",
      "source": [
        "#### Be funkcijos zip"
      ],
      "metadata": {
        "id": "6kJBeufGtnR6"
      }
    },
    {
      "cell_type": "code",
      "source": [
        "def ar_teisingi_stulpeliai(sudoku):\n",
        "    for stulpelio_id in range(9):\n",
        "        if not ar_teisingas_stulpelis(sudoku, stulpelio_id):\n",
        "            return False\n",
        "    return True"
      ],
      "metadata": {
        "id": "tVV8m9-ox4k9"
      },
      "execution_count": null,
      "outputs": []
    },
    {
      "cell_type": "code",
      "source": [
        "print(ar_teisingi_stulpeliai(sudoku_teisingas))\n",
        "print(ar_teisingi_stulpeliai(sudoku_neteisingas))"
      ],
      "metadata": {
        "colab": {
          "base_uri": "https://localhost:8080/"
        },
        "id": "8Y8fPq0Vtd4o",
        "outputId": "766edf21-744f-4d42-da6c-b8ed81050cd8"
      },
      "execution_count": null,
      "outputs": [
        {
          "output_type": "stream",
          "name": "stdout",
          "text": [
            "True\n",
            "False\n"
          ]
        }
      ]
    },
    {
      "cell_type": "markdown",
      "source": [
        "#### Naudojant funkciją zip"
      ],
      "metadata": {
        "id": "_5qNd8MFtqHX"
      }
    },
    {
      "cell_type": "code",
      "source": [
        "a = [1, 2, 3, 'a']\n",
        "b = [4, 5, 6, 'b']\n",
        "c = [7, 8, 9, 'c']\n",
        "\n",
        "for x in zip(a, b, c):\n",
        "    print(x)"
      ],
      "metadata": {
        "colab": {
          "base_uri": "https://localhost:8080/"
        },
        "id": "wnJaFgKfttz_",
        "outputId": "cea6c05c-297f-4f3f-81a4-47cda1cba2e8"
      },
      "execution_count": null,
      "outputs": [
        {
          "output_type": "stream",
          "name": "stdout",
          "text": [
            "(1, 4, 7)\n",
            "(2, 5, 8)\n",
            "(3, 6, 9)\n",
            "('a', 'b', 'c')\n"
          ]
        }
      ]
    },
    {
      "cell_type": "code",
      "source": [
        "d = [a, b, c]\n",
        "# print(d)\n",
        "\n",
        "for x in zip(*d):\n",
        "    print(x)"
      ],
      "metadata": {
        "colab": {
          "base_uri": "https://localhost:8080/"
        },
        "id": "5wIW8_ZJuQ3l",
        "outputId": "0dc5890b-52a9-44e6-c8f9-6e0a1c53f397"
      },
      "execution_count": null,
      "outputs": [
        {
          "output_type": "stream",
          "name": "stdout",
          "text": [
            "(1, 4, 7)\n",
            "(2, 5, 8)\n",
            "(3, 6, 9)\n",
            "('a', 'b', 'c')\n"
          ]
        }
      ]
    },
    {
      "cell_type": "code",
      "source": [
        "def ar_teisingi_stulpeliai(sudoku):\n",
        "    for stulpelis in zip(*sudoku):\n",
        "        if not ar_teisingos_reiksmes(stulpelis):\n",
        "            return False\n",
        "    return True"
      ],
      "metadata": {
        "id": "Puw6oPPkvnbY"
      },
      "execution_count": null,
      "outputs": []
    },
    {
      "cell_type": "code",
      "source": [
        "print(ar_teisingi_stulpeliai(sudoku_teisingas))\n",
        "print(ar_teisingi_stulpeliai(sudoku_neteisingas))"
      ],
      "metadata": {
        "colab": {
          "base_uri": "https://localhost:8080/"
        },
        "id": "EBLgNyAav7cF",
        "outputId": "efd4fe8d-2ed0-4f83-a367-9d7c0bd89257"
      },
      "execution_count": null,
      "outputs": [
        {
          "output_type": "stream",
          "name": "stdout",
          "text": [
            "True\n",
            "False\n"
          ]
        }
      ]
    },
    {
      "cell_type": "markdown",
      "source": [
        "### 14.5. Parašykite funkciją ar_teisingi_blokai, kuri patikrintų visus sudoku blokus.\n",
        "\n",
        "#### Pavyzdys\n",
        "\n",
        "Įvestis:\n",
        "\n",
        "```\n",
        "print(ar_teisingi_blokai(sudoku_teisingas))\n",
        "print(ar_teisingi_blokai(sudoku_neteisingas))\n",
        "```\n",
        "\n",
        "Išvestis:\n",
        "\n",
        "```\n",
        "True\n",
        "False\n",
        "```"
      ],
      "metadata": {
        "id": "RzKutR6aPOWj"
      }
    },
    {
      "cell_type": "code",
      "source": [
        "# sudoku_teisingas = [\n",
        "#     [2,9,5, 7,4,3, 8,6,1],\n",
        "#     [4,3,1, 8,6,5, 9,2,7],\n",
        "#     [8,7,6, 1,9,2, 5,4,3],\n",
        "\n",
        "#     [3,8,7, 4,5,9, 2,1,6],\n",
        "#     [6,1,2, 3,8,7, 4,9,5],\n",
        "#     [5,4,9, 2,1,6, 7,3,8],\n",
        "\n",
        "#     [7,6,3, 5,2,4, 1,8,9],\n",
        "#     [9,2,8, 6,7,1, 3,5,4],\n",
        "#     [1,5,4, 9,3,8, 6,7,2]\n",
        "# ]"
      ],
      "metadata": {
        "id": "YJ_oOdENxyN-"
      },
      "execution_count": null,
      "outputs": []
    },
    {
      "cell_type": "code",
      "source": [
        "print(sudoku_teisingas[3][6:9])\n",
        "print(sudoku_teisingas[4][6:9])\n",
        "print(sudoku_teisingas[5][6:9])"
      ],
      "metadata": {
        "colab": {
          "base_uri": "https://localhost:8080/"
        },
        "id": "LUbdUzPPwC9r",
        "outputId": "3fea434d-45a9-4e9c-bc50-e6306c9b81d9"
      },
      "execution_count": null,
      "outputs": [
        {
          "output_type": "stream",
          "name": "stdout",
          "text": [
            "[2, 1, 6]\n",
            "[4, 9, 5]\n",
            "[7, 3, 8]\n"
          ]
        }
      ]
    },
    {
      "cell_type": "code",
      "source": [
        "i = 3\n",
        "j = 6"
      ],
      "metadata": {
        "id": "h_QB1NNFxJc-"
      },
      "execution_count": null,
      "outputs": []
    },
    {
      "cell_type": "code",
      "source": [
        "print(sudoku_teisingas[i][j:j+3])\n",
        "print(sudoku_teisingas[i + 1][j:j+3])\n",
        "print(sudoku_teisingas[i + 2][j:j+3])"
      ],
      "metadata": {
        "colab": {
          "base_uri": "https://localhost:8080/"
        },
        "id": "iwFKaYwTw3rG",
        "outputId": "0a039d65-dfe6-444e-f95e-0d31713ab077"
      },
      "execution_count": null,
      "outputs": [
        {
          "output_type": "stream",
          "name": "stdout",
          "text": [
            "[2, 1, 6]\n",
            "[4, 9, 5]\n",
            "[7, 3, 8]\n"
          ]
        }
      ]
    },
    {
      "cell_type": "code",
      "source": [
        "i = 0\n",
        "j = 3"
      ],
      "metadata": {
        "id": "NmaTezJ9x_rc"
      },
      "execution_count": null,
      "outputs": []
    },
    {
      "cell_type": "code",
      "source": [
        "blokas = sudoku_teisingas[i][j:j+3] \\\n",
        "    + sudoku_teisingas[i + 1][j:j+3] \\\n",
        "    + sudoku_teisingas[i + 2][j:j+3]\n",
        "\n",
        "ar_teisingos_reiksmes(blokas)"
      ],
      "metadata": {
        "colab": {
          "base_uri": "https://localhost:8080/"
        },
        "id": "ReqjEDhZzg92",
        "outputId": "75f79690-2aec-47b8-c048-91ca0ab67daa"
      },
      "execution_count": null,
      "outputs": [
        {
          "output_type": "execute_result",
          "data": {
            "text/plain": [
              "True"
            ]
          },
          "metadata": {},
          "execution_count": 71
        }
      ]
    },
    {
      "cell_type": "code",
      "source": [
        "def ar_teisingi_blokai(sudoku):\n",
        "    for i in (0, 3, 6):\n",
        "        for j in (0, 3, 6):\n",
        "            blokas = sudoku[i][j:j+3] \\\n",
        "                + sudoku[i + 1][j:j+3] \\\n",
        "                + sudoku[i + 2][j:j+3]\n",
        "            if not ar_teisingos_reiksmes(blokas):\n",
        "                return False\n",
        "        return True"
      ],
      "metadata": {
        "id": "CCJfdcULy7mW"
      },
      "execution_count": null,
      "outputs": []
    },
    {
      "cell_type": "code",
      "source": [
        "print(ar_teisingi_blokai(sudoku_teisingas))\n",
        "print(ar_teisingi_blokai(sudoku_neteisingas))"
      ],
      "metadata": {
        "colab": {
          "base_uri": "https://localhost:8080/"
        },
        "id": "bPeWOmC1yFZa",
        "outputId": "51007d30-0e60-43c0-c874-8342be307c6f"
      },
      "execution_count": null,
      "outputs": [
        {
          "output_type": "stream",
          "name": "stdout",
          "text": [
            "True\n",
            "False\n"
          ]
        }
      ]
    },
    {
      "cell_type": "markdown",
      "source": [
        "### 14.6 Parašykite funkciją ar_teisingas_sudoku, kuri patikrintų visą sudoku.\n",
        "\n",
        "#### Pavyzdys\n",
        "\n",
        "Įvestis:\n",
        "\n",
        "```\n",
        "print(ar_teisingas_sudoku(sudoku_teisingas))\n",
        "print(ar_teisingas_sudoku(sudoku_neteisingas))\n",
        "```\n",
        "\n",
        "Išvestis:\n",
        "\n",
        "```\n",
        "True\n",
        "False\n",
        "```"
      ],
      "metadata": {
        "id": "dE04szaNPQUE"
      }
    },
    {
      "cell_type": "code",
      "source": [
        "def ar_teisingas_sudoku(sudoku):\n",
        "    if all([\n",
        "        ar_teisingos_eilutes(sudoku),\n",
        "        ar_teisingi_stulpeliai(sudoku),\n",
        "        ar_teisingi_blokai(sudoku)\n",
        "    ]):\n",
        "        return True\n",
        "    else:\n",
        "        return False"
      ],
      "metadata": {
        "id": "t-1RhLLNxwV7"
      },
      "execution_count": null,
      "outputs": []
    },
    {
      "cell_type": "code",
      "source": [
        "print(ar_teisingas_sudoku(sudoku_teisingas))\n",
        "print(ar_teisingas_sudoku(sudoku_neteisingas))"
      ],
      "metadata": {
        "colab": {
          "base_uri": "https://localhost:8080/"
        },
        "id": "6M3LKbZK3Jim",
        "outputId": "4aeb1fde-531b-4a8f-c25d-7ad5fb5b815a"
      },
      "execution_count": null,
      "outputs": [
        {
          "output_type": "stream",
          "name": "stdout",
          "text": [
            "True\n",
            "False\n"
          ]
        }
      ]
    },
    {
      "cell_type": "markdown",
      "source": [
        "#### Pilnas sprendimas"
      ],
      "metadata": {
        "id": "RL9QFCgM3frI"
      }
    },
    {
      "cell_type": "code",
      "source": [
        "def ar_teisingos_reiksmes(reiksmes):\n",
        "    return sorted(reiksmes) == list(range(1, 10))\n",
        "\n",
        "\n",
        "def ar_teisingos_eilutes(sudoku):\n",
        "    for eilute in sudoku:\n",
        "        if not ar_teisingos_reiksmes(eilute):\n",
        "            return False\n",
        "    return True\n",
        "\n",
        "\n",
        "def ar_teisingi_stulpeliai(sudoku):\n",
        "    for stulpelis in zip(*sudoku):\n",
        "        if not ar_teisingos_reiksmes(stulpelis):\n",
        "            return False\n",
        "    return True\n",
        "\n",
        "\n",
        "def ar_teisingi_blokai(sudoku):\n",
        "    for i in (0, 3, 6):\n",
        "        for j in (0, 3, 6):\n",
        "            blokas = sudoku[i][j:j+3] \\\n",
        "                + sudoku[i + 1][j:j+3] \\\n",
        "                + sudoku[i + 2][j:j+3]\n",
        "            if not ar_teisingos_reiksmes(blokas):\n",
        "                return False\n",
        "        return True\n",
        "\n",
        "\n",
        "def ar_teisingas_sudoku(sudoku):\n",
        "    if all([\n",
        "        ar_teisingos_eilutes(sudoku),\n",
        "        ar_teisingi_stulpeliai(sudoku),\n",
        "        ar_teisingi_blokai(sudoku)\n",
        "    ]):\n",
        "        return True\n",
        "    else:\n",
        "        return False"
      ],
      "metadata": {
        "id": "ompfgqIa3ikj"
      },
      "execution_count": null,
      "outputs": []
    },
    {
      "cell_type": "code",
      "source": [
        "print(ar_teisingas_sudoku(sudoku_teisingas))\n",
        "print(ar_teisingas_sudoku(sudoku_neteisingas))"
      ],
      "metadata": {
        "colab": {
          "base_uri": "https://localhost:8080/"
        },
        "id": "PtngehIy3t_2",
        "outputId": "b709f36b-9365-4ef0-ccde-ddf197d347dc"
      },
      "execution_count": null,
      "outputs": [
        {
          "output_type": "stream",
          "name": "stdout",
          "text": [
            "True\n",
            "False\n"
          ]
        }
      ]
    },
    {
      "cell_type": "markdown",
      "source": [
        "# 15. Lyginių skaičių suma\n",
        "\n",
        "Parašykite funkciją \"lyginiu_suma\", kuri grąžintų visų lyginių skaičių sumą.\n",
        "\n",
        "#### Pavyzdys:\n",
        "\n",
        "Įvestis:\n",
        "```\n",
        "print(lyginiu_suma([1, 2, 3, 4, 5, 6]))\n",
        "```\n",
        "\n",
        "Išvestis:\n",
        "```\n",
        "12\n",
        "```"
      ],
      "metadata": {
        "id": "LSZqi4493Gki"
      }
    },
    {
      "cell_type": "code",
      "source": [
        "def lyginiu_suma_1(skaiciai):\n",
        "    suma = 0\n",
        "    for skaicius in skaiciai:\n",
        "        if skaicius % 2 == 0:\n",
        "            suma += skaicius\n",
        "    return suma"
      ],
      "metadata": {
        "id": "NYM9Ud70nI6x"
      },
      "execution_count": null,
      "outputs": []
    },
    {
      "cell_type": "code",
      "source": [
        "def lyginiu_suma_2(skaiciai):\n",
        "    lyginiai = []\n",
        "    for skaicius in skaiciai:\n",
        "        if skaicius % 2 == 0:\n",
        "            lyginiai.append(skaicius)\n",
        "    return sum(lyginiai)"
      ],
      "metadata": {
        "id": "7VtpOM8PZrDg"
      },
      "execution_count": null,
      "outputs": []
    },
    {
      "cell_type": "code",
      "source": [
        "print(lyginiu_suma_1([1, 2, 3, 4, 5, 6]))"
      ],
      "metadata": {
        "colab": {
          "base_uri": "https://localhost:8080/"
        },
        "id": "I5vgM3cSY7Qe",
        "outputId": "70ffccfc-0ea2-4201-e2b6-4afe658bd550"
      },
      "execution_count": null,
      "outputs": [
        {
          "output_type": "stream",
          "name": "stdout",
          "text": [
            "12\n"
          ]
        }
      ]
    },
    {
      "cell_type": "code",
      "source": [
        "print(lyginiu_suma_2([1, 2, 3, 4, 5, 6]))"
      ],
      "metadata": {
        "colab": {
          "base_uri": "https://localhost:8080/"
        },
        "id": "tJYCBfUGZtxR",
        "outputId": "d43ce497-b2da-410f-91d3-ae55e7abcf4f"
      },
      "execution_count": null,
      "outputs": [
        {
          "output_type": "stream",
          "name": "stdout",
          "text": [
            "12\n"
          ]
        }
      ]
    },
    {
      "cell_type": "markdown",
      "source": [
        "# 16. Balsių skaičius\n",
        "\n",
        "Parašykite funkciją \"kiek_balsiu\", kuri suskaičiuotų kiek yra balsių (aąeęėiįouųū) tekstinėje eilutėje.\n",
        "\n",
        "#### Pavyzdys:\n",
        "\n",
        "Įvestis:\n",
        "```\n",
        "print(kiek_balsiu(\"Labas, Pasauli\"))\n",
        "```\n",
        "\n",
        "Išvestis:\n",
        "```\n",
        "6\n",
        "```"
      ],
      "metadata": {
        "id": "qmpIovWG3NFu"
      }
    },
    {
      "cell_type": "code",
      "source": [
        "def kiek_balsiu(sakinys):\n",
        "    balses = \"aąeęėiįouųū\"\n",
        "    suma = 0\n",
        "    for raide in sakinys.lower():\n",
        "        if raide in balses:\n",
        "            suma += 1\n",
        "    return suma"
      ],
      "metadata": {
        "id": "MPmfo8W0gJWq"
      },
      "execution_count": null,
      "outputs": []
    },
    {
      "cell_type": "code",
      "source": [
        "print(kiek_balsiu(\"Labas, Pasauli\"))"
      ],
      "metadata": {
        "colab": {
          "base_uri": "https://localhost:8080/"
        },
        "id": "79alNdF7cUL3",
        "outputId": "bf41c331-8808-4a90-8e72-ab2c23aafd6e"
      },
      "execution_count": null,
      "outputs": [
        {
          "output_type": "stream",
          "name": "stdout",
          "text": [
            "6\n"
          ]
        }
      ]
    },
    {
      "cell_type": "markdown",
      "source": [
        "# 17. Faktorialas\n",
        "\n",
        "Natūraliojo skaičiaus n faktorialu vadinama visų natūraliųjų skaičių nuo 1 iki n sandauga.\n",
        "\n",
        "Parašykite funkciją \"faktorialas\", kuri grąžintų nurodyto skaičiaus faktorialą.\n",
        "\n",
        "#### Pavyzdys:\n",
        "\n",
        "Įvestis:\n",
        "```\n",
        "print(faktorialas(5))\n",
        "print(faktorialas(10))\n",
        "```\n",
        "\n",
        "Išvestis:\n",
        "```\n",
        "120\n",
        "3628800\n",
        "```"
      ],
      "metadata": {
        "id": "Tg2ggxv33HU7"
      }
    },
    {
      "cell_type": "code",
      "source": [
        "def faktorialas(skaicius):\n",
        "    ats = 1\n",
        "    for i in range(1, skaicius + 1):\n",
        "        ats *= i\n",
        "    return ats"
      ],
      "metadata": {
        "id": "5JsEThTQyNSt"
      },
      "execution_count": null,
      "outputs": []
    },
    {
      "cell_type": "code",
      "source": [
        "print(faktorialas(5))\n",
        "print(faktorialas(10))"
      ],
      "metadata": {
        "colab": {
          "base_uri": "https://localhost:8080/"
        },
        "id": "8yAVlOJuEi5R",
        "outputId": "566977d2-a84e-409c-b206-e8fd0b3e76ae"
      },
      "execution_count": null,
      "outputs": [
        {
          "output_type": "stream",
          "name": "stdout",
          "text": [
            "120\n",
            "3628800\n"
          ]
        }
      ]
    },
    {
      "cell_type": "markdown",
      "source": [
        "# 18. Fibonacci seka\n",
        "\n",
        "Kiekvienas Fibonačio sekos skaičius lygus dviejų prieš jį einančių skaičių sumai. Seka prasideda šiais skaičiais: 0, 1, 1, 2, 3, 5.\n",
        "\n",
        "Parašykite funkciją \"fibonacci\", kuri grąžintų n pirmųjų Fibonačio sekos narių sąrašą, čia n — funkcijos argumentas, sveikasis skaičius.\n",
        "\n",
        "#### Pavyzdys:\n",
        "\n",
        "Įvestis:\n",
        "```\n",
        "print(fibonacci(-5))\n",
        "print(fibonacci(1))\n",
        "print(fibonacci(2))\n",
        "print(fibonacci(10))\n",
        "```\n",
        "\n",
        "Išvestis:\n",
        "```\n",
        "Skaičius n turi būti teigiamas\n",
        "[0]\n",
        "[0, 1]\n",
        "[0, 1, 1, 2, 3, 5, 8, 13, 21, 34]\n",
        "```"
      ],
      "metadata": {
        "id": "L-KN06Ie3HD3"
      }
    },
    {
      "cell_type": "code",
      "source": [
        "def fibonacci(n):\n",
        "    if not isinstance(n, int):\n",
        "        return ValueError(\"Skaičius n turi būti sveikasis\")\n",
        "\n",
        "    if n < 1:\n",
        "        return ValueError(\"Skaičius n turi būti teigiamas\")\n",
        "    elif n == 1:\n",
        "        return [0]\n",
        "\n",
        "    seka = [0, 1]\n",
        "    # for i in range(2, n):\n",
        "    while len(seka) < n:\n",
        "        seka.append(seka[-1] + seka[-2])\n",
        "    return seka"
      ],
      "metadata": {
        "id": "KxGeVJP23HwQ"
      },
      "execution_count": null,
      "outputs": []
    },
    {
      "cell_type": "code",
      "source": [
        "print(fibonacci(10))"
      ],
      "metadata": {
        "colab": {
          "base_uri": "https://localhost:8080/"
        },
        "id": "PbtHoeOPoWFy",
        "outputId": "6bc01538-9e3c-4b14-df80-241f168ea06a"
      },
      "execution_count": null,
      "outputs": [
        {
          "output_type": "stream",
          "name": "stdout",
          "text": [
            "[0, 1, 1, 2, 3, 5, 8, 13, 21, 34]\n"
          ]
        }
      ]
    },
    {
      "cell_type": "code",
      "source": [
        "print(fibonacci(-5))\n",
        "print(fibonacci(1))\n",
        "print(fibonacci(2))\n",
        "print(fibonacci(10))"
      ],
      "metadata": {
        "colab": {
          "base_uri": "https://localhost:8080/"
        },
        "id": "-ns3Sk1Nm_lp",
        "outputId": "fa7abb92-eb9e-4bcd-b3ae-fb65260e6286"
      },
      "execution_count": null,
      "outputs": [
        {
          "output_type": "stream",
          "name": "stdout",
          "text": [
            "Skaičius n turi būti teigiamas\n",
            "[0]\n",
            "[0, 1]\n",
            "[0, 1, 1, 2, 3, 5, 8, 13, 21, 34]\n"
          ]
        }
      ]
    },
    {
      "cell_type": "markdown",
      "source": [
        "# 19. Kartotinių suma\n",
        "\n",
        "Parašykite funkciją \"kartotoniu_suma_3_5\", kuri suskaičiuotų sumą skaičių mažesnių už nurodytą argumentą n, kurie yra dalūs iš 3 arba iš 5.\n",
        "\n",
        "#### Pavyzdys:\n",
        "\n",
        "Įvestis:\n",
        "```\n",
        "print(kartotoniu_suma_3_5(10))\n",
        "print(kartotoniu_suma_3_5(20))\n",
        "```\n",
        "\n",
        "Išvestis:\n",
        "```\n",
        "23\n",
        "78\n",
        "```"
      ],
      "metadata": {
        "id": "L5Nff78B3eGQ"
      }
    },
    {
      "cell_type": "code",
      "source": [
        "def kartotoniu_suma_3_5(n):\n",
        "    if not isinstance(n, int):\n",
        "        return ValueError(\"Skaičius n turi būti sveikasis\")\n",
        "\n",
        "    suma = 0\n",
        "    for i in range(n):\n",
        "        if i % 3 == 0 or i % 5 == 0:\n",
        "            suma += i\n",
        "    return suma"
      ],
      "metadata": {
        "id": "gI5sdFyS3gBq"
      },
      "execution_count": null,
      "outputs": []
    },
    {
      "cell_type": "code",
      "source": [
        "def kartotoniu_suma_3_5(n):\n",
        "    if not isinstance(n, int):\n",
        "        return ValueError(\"Skaičius n turi būti sveikasis\")\n",
        "\n",
        "    suma = 0\n",
        "    i = 1\n",
        "    while i < n:\n",
        "        if i % 3 == 0 or i % 5 == 0:\n",
        "            suma += i\n",
        "        i += 1\n",
        "    return suma"
      ],
      "metadata": {
        "id": "MkVfL0oIr_W6"
      },
      "execution_count": null,
      "outputs": []
    },
    {
      "cell_type": "code",
      "source": [
        "print(kartotoniu_suma_3_5(10))\n",
        "print(kartotoniu_suma_3_5(20))"
      ],
      "metadata": {
        "colab": {
          "base_uri": "https://localhost:8080/"
        },
        "id": "x0P2b4orrqHC",
        "outputId": "1deb55af-a26d-4669-841c-802a4bd0c054"
      },
      "execution_count": null,
      "outputs": [
        {
          "output_type": "stream",
          "name": "stdout",
          "text": [
            "23\n",
            "78\n"
          ]
        }
      ]
    },
    {
      "cell_type": "markdown",
      "source": [
        "# 20. Skaičių klasifikatorius\n",
        "\n",
        "Parašykite funkciją \"koks_skaicius\", kurios argumentas būtų sveikasis skaičius. Funkcija turi grąžinti:\n",
        "*   \"lyginis teigiamas\", jei skaičius yra lyginis ir teigiamas;\n",
        "*   \"lyginis neigiamas\", jei skaičius yra lyginis ir neigiamas;\n",
        "*   \"nelyginis teigiamas\", jei skaičius yra nelyginis ir teigiamas;\n",
        "*   \"nelyginis neigiamas\", jei skaičius yra nelyginis ir neigiamas.\n",
        "*   \"nulis\", jei skaičius lygus 0.\n",
        "\n",
        "#### Pavyzdys:\n",
        "\n",
        "Įvestis:\n",
        "```\n",
        "print(koks_skaicius(2))\n",
        "print(koks_skaicius(3))\n",
        "print(koks_skaicius(-2))\n",
        "print(koks_skaicius(-3))\n",
        "print(koks_skaicius(0))\n",
        "```\n",
        "\n",
        "Išvestis:\n",
        "```\n",
        "lyginis teigiamas\n",
        "nelyginis teigiamas\n",
        "lyginis neigiamas\n",
        "nelyginis neigiamas\n",
        "nulis\n",
        "```"
      ],
      "metadata": {
        "id": "H7H1o1Ay3gRs"
      }
    },
    {
      "cell_type": "code",
      "source": [],
      "metadata": {
        "id": "2BtBwxOn3jNZ"
      },
      "execution_count": null,
      "outputs": []
    },
    {
      "cell_type": "markdown",
      "source": [
        "# 21. Teksto klasifikatorius\n",
        "\n",
        "Parašykite funkciją \"koks_tekstas\", kurios argumentas būtų tekstinė eilutė. Funkcija turi grąžinti:\n",
        "\n",
        "*   \"mažosios ir didžiosios\", jei tekste yra ir mažosios, ir didžiosios raidės;\n",
        "*   \"tik mažosios\", jei tekstą sudaro tik mazosios raidės (galimi simboliai);\n",
        "*   \"tik didžiosios\", jei tekstą sudaro tik didžiosios raidės (galimi simboliai);\n",
        "*   \"raidžių nėra\", jei tekstą sudaro tik neraidiniai simboliai.\n",
        "\n",
        "#### Pavyzdys:\n",
        "\n",
        "Įvestis:\n",
        "```\n",
        "print(koks_tekstas(\"labas\"))\n",
        "print(koks_tekstas(\"LABAS\"))\n",
        "print(koks_tekstas(\"Labas\"))\n",
        "print(koks_tekstas(\"12345\"))\n",
        "```\n",
        "\n",
        "Išvestis:\n",
        "```\n",
        "tik mažosios\n",
        "tik didžiosios\n",
        "mažosios ir didžiosios\n",
        "raidžių nėra\n",
        "```"
      ],
      "metadata": {
        "id": "Y4z4VOpb3jm9"
      }
    },
    {
      "cell_type": "code",
      "source": [],
      "metadata": {
        "id": "IinqKsSk3mJ4"
      },
      "execution_count": null,
      "outputs": []
    },
    {
      "cell_type": "markdown",
      "source": [
        "# 22. Tinkamas slaptažodis\n",
        "\n",
        "Parašykite funkciją \"ar_geras_slaptazodis\", kurios argumentas būtų tekstinė eilutė (slaptažodis). Funkcija turi grąžinti:\n",
        "\n",
        "*   \"Stiprus slaptažodis\", jei slaptažodis ne trumpesis nei 8 simboliai ir jį sudaro didžiosios bei mažosios raidės, skaitmenys ir bent vienas simbolis (\"!@#$%^&*()-_+=\")\n",
        "*   \"Vidutinis slaptažodis\", jei slaptažodis ne trumpesis nei 6 simboliai ir jį sudaro raidės ir bent vienas skaitmuo.\n",
        "*   \"Silpnas slaptažodis\" visais kitais atvejais.\n",
        "\n",
        "#### Pavyzdys:\n",
        "\n",
        "Įvestis:\n",
        "```\n",
        "print(ar_geras_slaptazodis(\"Sl@ptazod1s\"))\n",
        "print(ar_geras_slaptazodis(\"Slaptazodis1\"))\n",
        "print(ar_geras_slaptazodis(\"Slaptazodis\"))\n",
        "```\n",
        "\n",
        "Išvestis:\n",
        "```\n",
        "Stiprus slaptažodis\n",
        "Vidutinis slaptažodis\n",
        "Silpnas slaptažodis\n",
        "```"
      ],
      "metadata": {
        "id": "n0xgvrd73mYr"
      }
    },
    {
      "cell_type": "code",
      "source": [],
      "metadata": {
        "id": "9sD085V75FyV"
      },
      "execution_count": null,
      "outputs": []
    },
    {
      "cell_type": "markdown",
      "source": [
        "# 23. Romėniški skaičiai\n",
        "\n",
        "Romėniški skaičiai — skaičių sistema naudota Senovės Romoje, adaptuota iš etruskų. Romėniški skaičiai žymimi raidėmis, vienas skaičius gali būti užrašytas vienos ar daugiau raidžių kombinacija.\n",
        "\n",
        "Pagrindiniai septyni skaičiai:\n",
        "*   I — 1,\n",
        "*   V — 5,\n",
        "*   X — 10,\n",
        "*   L — 50,\n",
        "*   C — 100\n",
        "*   D — 500,\n",
        "*   M — 1000.\n",
        "\n",
        "Skaičių kombinacijos sudaromos laikantis tam tikrų taisyklių:\n",
        "*   II — 2,\n",
        "*   III — 3,\n",
        "*   IV — 4,\n",
        "*   VI — 6,\n",
        "*   VII — 7,\n",
        "*   VIII — 8,\n",
        "*   IX — 9.\n",
        "\n",
        "Ta pati logika galioja dešimtims bei šimtams, pavyzdžiui XL = 40, XC = 90, CD = 400, CM = 900 ir pan.\n",
        "\n",
        "Romėniškojo skaičiaus reikšmė nustatoma taip: jei didesnis skaitmuo yra prieš mažesnį arba du skaitmenys yra vienodi, tai jie sudedami, o jei mažesnis yra prieš didesnį, tai mažesnis atimamas iš didesnio. Patogiausia skaičiuoti sudedant (atimant) skaitmenis nuo galo, pavyzdžiui:\n",
        "\n",
        "MCXLIV = 5 - 1 + 50 - 10 + 100 + 1000 = 1144.\n",
        "\n"
      ],
      "metadata": {
        "id": "XZT0a3m-lQPs"
      }
    },
    {
      "cell_type": "code",
      "source": [],
      "metadata": {
        "id": "_qP9N-4xsDo8"
      },
      "execution_count": null,
      "outputs": []
    },
    {
      "cell_type": "markdown",
      "source": [
        "## 23.1 Romėniški į arabiškus\n",
        "\n",
        "Parašykite funkciją romeniskas_i_arabiska, kuri konvertuotų romėnišką skaičių, mažesnį nei 4000 į arabišką. Tikrinti ar romėniškas skaičius parašytas teisingai ir ar yra mažesnis nei 4000 NEREIKIA.\n",
        "\n",
        "Patarimas — pasinaudokite žodyno duomenų struktūra.\n",
        "\n",
        "#### Pavyzdys\n",
        "\n",
        "Įvestis:\n",
        "```\n",
        "print(romeniskas_i_arabiska(\"VIII\"))\n",
        "print(romeniskas_i_arabiska(\"XIX\"))\n",
        "print(romeniskas_i_arabiska(\"DCCLXXXIX\"))\n",
        "print(romeniskas_i_arabiska(\"MMMCDXCVIII\"))\n",
        "```\n",
        "\n",
        "Išvestis:\n",
        "```\n",
        "8\n",
        "19\n",
        "789\n",
        "3498\n",
        "```"
      ],
      "metadata": {
        "id": "aGNwfawIlSBc"
      }
    },
    {
      "cell_type": "code",
      "execution_count": null,
      "metadata": {
        "id": "QgWqgop2lNIm"
      },
      "outputs": [],
      "source": []
    },
    {
      "cell_type": "markdown",
      "source": [
        "## 23.2 Arabiški į romėniškus\n",
        "\n",
        "Parašykite funkciją arabiskas_i_romeniska, kuri konvertuotų arabišką skaičių, mažesnį nei 4000 į romėnišką.\n",
        "\n",
        "Patarimas — išskaidykite skaitmenis į tūkstančius, šimtus, dešimtis bei vienetus.\n",
        "\n",
        "*   Papildomai 1: patikrinkite ar arabiškas skaičius mažesnis nei 4000, jei ne, atspausdinkite klaidos pranešimą.\n",
        "*   Papildomai 2: patikrinkite ar arabiškas skaičius yra natūralusis, jei ne, atspausdinkite klaidos pranešimą.\n",
        "\n",
        "#### Pavyzdys\n",
        "\n",
        "Įvestis:\n",
        "```\n",
        "print(arabiskas_i_romeniska(8))\n",
        "print(arabiskas_i_romeniska(19))\n",
        "print(arabiskas_i_romeniska(789))\n",
        "print(arabiskas_i_romeniska(3498))\n",
        "print(arabiskas_i_romeniska(4007))\n",
        "print(arabiskas_i_romeniska(-1))\n",
        "```\n",
        "\n",
        "Išvestis:\n",
        "```\n",
        "VIII\n",
        "XIX\n",
        "DCCLXXXIX\n",
        "MMMCDXCVIII\n",
        "Skaičius per didelis\n",
        "Skaičius turi būti natūralusis\n",
        "```"
      ],
      "metadata": {
        "id": "bEoE5J2HlUdS"
      }
    },
    {
      "cell_type": "code",
      "source": [],
      "metadata": {
        "id": "vmq5eR-UlUuY"
      },
      "execution_count": null,
      "outputs": []
    },
    {
      "cell_type": "markdown",
      "source": [
        "# 24. Šachmatai ir grūdai\n",
        "\n",
        "Kadaise gyveno karalius, kuris labai mėgo šachmatus, o visus prieš jį laimėjusius oponentus apdovanodavo. Kartą vienas išminčius už pergalę paprašė vieno kviečių grūdo ant pirmo šachmatų lentos langelio, dviejų ant antro, keturių ant trečio ir taip toliau dvigubinant grūdų skaičių kiekvieną dieną tiek kartų, kiek šachmatų lentoje yra langelių."
      ],
      "metadata": {
        "id": "orKZW1m5laRR"
      }
    },
    {
      "cell_type": "markdown",
      "source": [
        "## 24.1. Įvesties patikra\n",
        "\n",
        "Parašykite funkciją ivesties_patikra, kuri grąžina klaidos pranešimą, jei\n",
        "*   įvestis nėra sveikasis skaičius\n",
        "*   įvestas skaičius nėra tarp 1 ir 64\n",
        "\n",
        "#### Pavyzdys\n",
        "\n",
        "Įvestis:\n",
        "```\n",
        "print(ivesties_patikra(-10))\n",
        "print(ivesties_patikra(67))\n",
        "print(ivesties_patikra(2.5))\n",
        "```\n",
        "\n",
        "Išvestis:\n",
        "```\n",
        "Diena turi būti sveikas skaičius tarp 1 ir 64\n",
        "Diena turi būti sveikas skaičius tarp 1 ir 64\n",
        "Diena turi būti sveikas skaičius\n",
        "```"
      ],
      "metadata": {
        "id": "ugphqt-Epvkg"
      }
    },
    {
      "cell_type": "code",
      "source": [],
      "metadata": {
        "id": "C8GcXV-Bpv4P"
      },
      "execution_count": null,
      "outputs": []
    },
    {
      "cell_type": "markdown",
      "source": [
        "## 24.2. Grūdų skaičius n-ąją dieną\n",
        "\n",
        "Parašykite funkciją grudai_langelyje, kuri grąžintų grūdų skaičių, kurio reikės pasirinktą dieną (n-asis langelis, n-oji diena) bei atspausdintų sakinį, kurio pavyzdys pateiktas.\n",
        "\n",
        "#### Pavyzdys\n",
        "\n",
        "Įvestis:\n",
        "```\n",
        "print(grudai_langelyje(5))\n",
        "```\n",
        "\n",
        "Išvestis:\n",
        "```\n",
        "5 dieną padovanotas grūdų skaičius: 16\n",
        "16\n",
        "```"
      ],
      "metadata": {
        "id": "q0qV6ikZlhKj"
      }
    },
    {
      "cell_type": "code",
      "source": [],
      "metadata": {
        "id": "STf6ii4ilgDI"
      },
      "execution_count": null,
      "outputs": []
    },
    {
      "cell_type": "markdown",
      "source": [
        "## 24.3. Iš viso grūdų iki n-osios dienos\n",
        "\n",
        "Parašykite funkciją viso_grudu, kuri grąžintų bendrą grūdų skaičių šachmatų lentoje iki pasirinktos dienos bei atspausdintų sakinį, kurio pavyzdys pateiktas.\n",
        "\n",
        "#### Pavyzdys\n",
        "\n",
        "Įvestis:\n",
        "```\n",
        "print(viso_grudu(64))\n",
        "```\n",
        "\n",
        "Išvestis:\n",
        "```\n",
        "Viso iki 64 dienos padovanotas grūdų skaičius: 18446744073709551615\n",
        "18446744073709551615\n",
        "\n",
        "```"
      ],
      "metadata": {
        "id": "X-ljVhwflgS1"
      }
    },
    {
      "cell_type": "code",
      "source": [],
      "metadata": {
        "id": "JvuFHVkHl_zJ"
      },
      "execution_count": null,
      "outputs": []
    },
    {
      "cell_type": "markdown",
      "source": [
        "# 25. Mažiausias trūkstamas skaičius\n",
        "\n",
        "Parašykite funkciją maziausias_trukstamas_teigiamas, kurios argumentas būtų sveikųjų skaičių sąrašas, ir kuri grąžintų mažiausią natūralųjį skaičių, kurio nėra tame sąraše.\n",
        "\n",
        "#### Pavyzdys\n",
        "\n",
        "Įvestis:\n",
        "```\n",
        "print(maziausias_trukstamas_teigiamas([-5, -7, 0, 2, 1, 6, 4, 7]))\n",
        "print(maziausias_trukstamas_teigiamas([-1, -2, -6, -8]))\n",
        "print(maziausias_trukstamas_teigiamas([1, 2, 3, 4]))\n",
        "```\n",
        "\n",
        "Išvestis:\n",
        "```\n",
        "3\n",
        "1\n",
        "5\n",
        "```"
      ],
      "metadata": {
        "id": "KwzPwW_XnJrC"
      }
    },
    {
      "cell_type": "code",
      "source": [],
      "metadata": {
        "id": "Lz8aFW3ZnO4g"
      },
      "execution_count": null,
      "outputs": []
    },
    {
      "cell_type": "markdown",
      "source": [
        "# 26. Ilgiausia \"kaimynų\" seka\n",
        "\n",
        "Vadinkime sveikuosius skaičius, kurie tarpusavyje skiriasi vienetu, kaimyniniais skaičiais. Pavyzdžiui, 10 ir 9 yra kaimyniniais skaičiai. Parašykite funkciją ilgiausios_kaimynu_sekos_ilgis, kurios argumentas būtų sveikųjų skaičių sąrašas ir kuri grąžintų ilgiausios kaimyninių skaičių sekos ilgį. Pavyzdžiui, sąraše [2, 3, 5, 4, 3, 4] ilgiausia kaimyninių skaičių seka yra [5, 4, 3, 4], o jos ilgis yra 4.\n",
        "\n",
        "#### Pavyzdys\n",
        "\n",
        "Įvestis:\n",
        "```\n",
        "print(ilgiausios_kaimynu_sekos_ilgis([2, 3, 5, 4, 3, 4]))\n",
        "print(ilgiausios_kaimynu_sekos_ilgis([0, 1, 2, 4, 5, 6]))\n",
        "print(ilgiausios_kaimynu_sekos_ilgis([0, 2, 4, 6]))\n",
        "```\n",
        "\n",
        "Išvestis:\n",
        "```\n",
        "4\n",
        "3\n",
        "1\n",
        "```"
      ],
      "metadata": {
        "id": "HQPUEgPlQzcW"
      }
    },
    {
      "cell_type": "code",
      "source": [],
      "metadata": {
        "id": "9mvEc8NhQy7n"
      },
      "execution_count": null,
      "outputs": []
    },
    {
      "cell_type": "markdown",
      "source": [
        "# 27. Lychrel skaičiai\n",
        "\n",
        "Lychrel skaičius yra natūralus skaičius, kuris nesudaro palindromo iteratyviai kartojant procesą, kurio metu prie skaičiaus pridedamas tas pats skaičius, kurio skaitmenys išsidėstę atvirkščia tvarka.\n",
        "\n",
        "Pavyzdžiui:\n",
        "\n",
        "1. 56 nėra Lychrel skaičius, nes<br>\n",
        "56 + 65 = 121 (121 yra palindromas);\n",
        "2. 349 nėra Lychrel skaičius, nes<br>\n",
        "349 + 943 = 1292 (1-a iteracija)<br>\n",
        "1292 + 2921 = 4213 (2-a iteracija)<br>\n",
        "4213 + 3124 = 7337 (palindromas)\n",
        "\n",
        "Nors tai nėra įrodyta, tačiau manoma, kad kai kurie skaičiai niekada nesukuria polindromo. Jie vadinami Lychrel skaičiais. Yra teigiama, kad skaičius yra Lychrel skaičius kol neįrodoma atvirkščiai. Skaičius 10677 buvo pirmas surastas skaičius, kuriam prireikė daugiau nei 50 iteracijų, kol buvo pasiektas palindromas 4668731596684224866951378664 (53 iteracijos, 28 skaitmenys)\n"
      ],
      "metadata": {
        "id": "32_ApqG7x7ab"
      }
    },
    {
      "cell_type": "markdown",
      "source": [
        "## 27.1. Ar Lychrel?\n",
        "\n",
        "Parašykite funkciją, kuri patikrintų, ar skaičius yra Lychrel skaičius tikrinant iki 50 iteracijų.\n",
        "\n",
        "#### Pavyzdys\n",
        "\n",
        "Įvestis:\n",
        "```\n",
        "print(ar_Lychrel(349))\n",
        "print(ar_Lychrel(196))\n",
        "```\n",
        "\n",
        "Išvestis:\n",
        "```\n",
        "False\n",
        "True\n",
        "```"
      ],
      "metadata": {
        "id": "g6qxk8HDx8ah"
      }
    },
    {
      "cell_type": "code",
      "source": [],
      "metadata": {
        "id": "QA0JmBrWx8E5"
      },
      "execution_count": null,
      "outputs": []
    },
    {
      "cell_type": "markdown",
      "source": [
        "## 27.2. Lychrel skaičių sąrašas\n",
        "\n",
        "Parašykite funkciją, kuri grąžintų visų mažesnių už nurodytą argumentą Lychrel skaičių sąrašą (skaičių, kurie nesudaro palindromo apsiribojant 50 iteracijų).\n",
        "\n",
        "#### Pavyzdys\n",
        "\n",
        "Įvestis:\n",
        "```\n",
        "print(Lychrel_sarasas(1000))\n",
        "```\n",
        "\n",
        "Išvestis:\n",
        "```\n",
        "[196, 295, 394, 493, 592, 689, 691, 788, 790, 879, 887, 978, 986]\n",
        "```"
      ],
      "metadata": {
        "id": "Ibyd_pamyBUA"
      }
    },
    {
      "cell_type": "code",
      "source": [],
      "metadata": {
        "id": "d5YNvAl4yBks"
      },
      "execution_count": null,
      "outputs": []
    },
    {
      "cell_type": "markdown",
      "source": [
        "# 28. ISBN verifikatorius\n",
        "\n",
        "ISBN (International Standard Book Number, iš angl. k. „tarptautinio standarto knygos numeris“) — unifikuotas knyginės produkcijos identifikavimo kodas, kurį naudoja leidėjai, bibliotekos ir knygų prekybos organizacijos.\n",
        "\n",
        "Iki 2006 m. gruodžio mėn. pabaigos ISBN turėjo 10 simbolius, tačiau nuo 2007 m. sausio 1 d. ISBN numerį visada sudaro 13 skaitmenų."
      ],
      "metadata": {
        "id": "lv_yjXD6GZdN"
      }
    },
    {
      "cell_type": "markdown",
      "source": [
        "## 28.1. ISBN-10\n",
        "\n",
        "ISBN-10 formatą sudaro 9 skaitmenys (nuo 0 iki 9) ir vienas kontrolinis simbolis (skaitmuo arba raidė „X“). Kontrolinis simbolis „X“ reiškia skaičių 10. ISBN numeris gali būti su brūkšneliais arba be jų, o jo galiojimą galima patikrinti pagal šią formulę:\n",
        "\n",
        "$$(10d_1 + 9d_2 + 8d_3 + 7d_4 + 6d_5 + 5d_6 + 4d_7 + 3d_8 + 2d_9 + d_{10}) \\mod 11 \\equiv 0,$$\n",
        "\n",
        "čia $d_{i}$ reiškia i-ąjį ISBN numerio skaitmenį (jei 10—asis simbolis yra „X“, tai $d_{10} = 10$), o $\\text{mod}$ yra liekanos operatorius.\n",
        "\n",
        "## Užduotis\n",
        "\n",
        "Parašykite funkciją isbn10_verifikatorius, kuri patikrintų ar įvesta simbolių eilutė yra galiojantis ISBN-10 numeris. Programa turi turėti galimybę patikrinti ISBN numerį tiek su skiriamaisiais brūkšneliais, tiek be jų.\n",
        "\n",
        "#### Pavyzdys\n",
        "\n",
        "Įvestis:\n",
        "```\n",
        "print(isbn10_verifikatorius(\"0375702245\"))\n",
        "print(isbn10_verifikatorius(\"0-521-22151-X\"))\n",
        "print(isbn10_verifikatorius(\"0375702244\"))\n",
        "print(isbn10_verifikatorius(\"0-521-22151-10\"))\n",
        "```\n",
        "\n",
        "Išvestis:\n",
        "```\n",
        "True\n",
        "True\n",
        "False\n",
        "False\n",
        "```"
      ],
      "metadata": {
        "id": "3-mEqo5bGaYA"
      }
    },
    {
      "cell_type": "code",
      "execution_count": null,
      "metadata": {
        "id": "38p1xYDiGXLX"
      },
      "outputs": [],
      "source": []
    },
    {
      "cell_type": "markdown",
      "source": [
        "## 28.2. ISBN-13\n",
        "\n",
        "ISBN-13 kontrolinis skaitmuo, kuris yra paskutinis ISBN skaitmuo, turi būti toks, kad visų trylikos skaitmenų, padaugintų pakaitomis iš 1 ir 3 suma dalintųsi iš 10 be liekanos. Matematiškai numerio galiojimą galima patikrinti pagal šią formulę:\n",
        "\n",
        "$$(d_1 + 3d_2 + d_3 + 3d_4 + d_5 + 3d_6 + d_7 + 3d_8 + d_9 + 3d_{10} + d_{11} + 3d_{12} + d_{13}) \\mod 10 \\equiv 0,$$\n",
        "\n",
        "čia $d_{i}$ reiškia i-ąjį ISBN numerio skaitmenį, o $\\text{mod}$ yra liekanos operatorius.\n",
        "\n",
        "Šiuo metu visų ISBN-13 numerių pirmieji trys skaitmenys yra 978 arba 979.\n",
        "\n",
        "ISBN numeris gali būti nurodomas su brūkšneliais arba be jų.\n",
        "\n",
        "## Užduotis\n",
        "\n",
        "Parašykite funkciją isbn13_verifikatorius, kuri patikrintų ar įvesta simbolių eilutė yra galiojantis ISBN-13 numeris. Programa turi turėti galimybę patikrinti ISBN numerį tiek su skiriamaisiais brūkšneliais, tiek be jų.\n",
        "\n",
        "#### Pavyzdys\n",
        "\n",
        "Įvestis:\n",
        "```\n",
        "print(isbn13_verifikatorius(\"9789986092148\"))\n",
        "print(isbn13_verifikatorius(\"978-3-16-148410-0\"))\n",
        "print(isbn13_verifikatorius(\"9789986093342\"))\n",
        "print(isbn13_verifikatorius(\"8799986092148\"))\n",
        "```\n",
        "\n",
        "Išvestis:\n",
        "```\n",
        "True\n",
        "True\n",
        "False\n",
        "False\n",
        "```"
      ],
      "metadata": {
        "id": "S-mmiSfeGb8m"
      }
    },
    {
      "cell_type": "code",
      "source": [],
      "metadata": {
        "id": "7xAayuRFGdX_"
      },
      "execution_count": null,
      "outputs": []
    }
  ]
}