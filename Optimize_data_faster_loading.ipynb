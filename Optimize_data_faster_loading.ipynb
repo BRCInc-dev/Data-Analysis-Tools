{
  "nbformat": 4,
  "nbformat_minor": 0,
  "metadata": {
    "colab": {
      "provenance": [],
      "authorship_tag": "ABX9TyO651aZP+d/1zSGwMiOmqPU",
      "include_colab_link": true
    },
    "kernelspec": {
      "name": "python3",
      "display_name": "Python 3"
    },
    "language_info": {
      "name": "python"
    }
  },
  "cells": [
    {
      "cell_type": "markdown",
      "metadata": {
        "id": "view-in-github",
        "colab_type": "text"
      },
      "source": [
        "<a href=\"https://colab.research.google.com/github/BRCInc-dev/Data-Analysis-Tools/blob/main/Optimize_data_faster_loading.ipynb\" target=\"_parent\"><img src=\"https://colab.research.google.com/assets/colab-badge.svg\" alt=\"Open In Colab\"/></a>"
      ]
    },
    {
      "cell_type": "code",
      "execution_count": null,
      "metadata": {
        "colab": {
          "base_uri": "https://localhost:8080/"
        },
        "id": "jwlugkK4alZP",
        "outputId": "19719172-31d3-445b-b501-965769d67b58"
      },
      "outputs": [
        {
          "output_type": "stream",
          "name": "stdout",
          "text": [
            "Duomenų apimtis sėkmingai sumažinta!\n"
          ]
        }
      ],
      "source": [
        "import pandas as pd\n",
        "\n",
        "# Užkrauti duomenis\n",
        "data = pd.read_csv('/content/customer_churn_dataset-training-master.csv')\n",
        "\n",
        "# Nurodyti, kiek procentų duomenų norite išlaikyti\n",
        "fraction = 0.1  # Pavyzdžiui, 10%\n",
        "\n",
        "# Atsitiktinė imtis iš duomenų rinkinio\n",
        "sampled_data = data.sample(frac=fraction, random_state=42)\n",
        "\n",
        "# Išsaugoti sumažintą duomenų rinkinį į naują failą\n",
        "sampled_data.to_csv('sumažinti_duomenys.csv', index=False)\n",
        "\n",
        "print('Duomenų apimtis sėkmingai sumažinta!')\n"
      ]
    }
  ]
}